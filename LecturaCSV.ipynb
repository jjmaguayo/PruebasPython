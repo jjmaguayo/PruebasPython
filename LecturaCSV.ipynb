{
 "cells": [
  {
   "cell_type": "code",
   "execution_count": 1,
   "metadata": {},
   "outputs": [],
   "source": [
    "#!conda activate tensorflow\n",
    "import datetime\n",
    "import numpy as np\n",
    "import pandas as pd"
   ]
  },
  {
   "cell_type": "code",
   "execution_count": 2,
   "metadata": {},
   "outputs": [
    {
     "data": {
      "text/html": [
       "<div>\n",
       "<style scoped>\n",
       "    .dataframe tbody tr th:only-of-type {\n",
       "        vertical-align: middle;\n",
       "    }\n",
       "\n",
       "    .dataframe tbody tr th {\n",
       "        vertical-align: top;\n",
       "    }\n",
       "\n",
       "    .dataframe thead th {\n",
       "        text-align: right;\n",
       "    }\n",
       "</style>\n",
       "<table border=\"1\" class=\"dataframe\">\n",
       "  <thead>\n",
       "    <tr style=\"text-align: right;\">\n",
       "      <th></th>\n",
       "      <th>ID_REGISTRO</th>\n",
       "      <th>ORIGEN</th>\n",
       "      <th>SECTOR</th>\n",
       "      <th>ENTIDAD_UM</th>\n",
       "      <th>SEXO</th>\n",
       "      <th>ENTIDAD_NAC</th>\n",
       "      <th>ENTIDAD_RES</th>\n",
       "      <th>MUNICIPIO_RES</th>\n",
       "      <th>TIPO_PACIENTE</th>\n",
       "      <th>FECHA_INGRESO</th>\n",
       "      <th>...</th>\n",
       "      <th>CARDIOVASCULAR</th>\n",
       "      <th>OBESIDAD</th>\n",
       "      <th>RENAL_CRONICA</th>\n",
       "      <th>TABAQUISMO</th>\n",
       "      <th>OTRO_CASO</th>\n",
       "      <th>RESULTADO</th>\n",
       "      <th>MIGRANTE</th>\n",
       "      <th>PAIS_NACIONALIDAD</th>\n",
       "      <th>PAIS_ORIGEN</th>\n",
       "      <th>UCI</th>\n",
       "    </tr>\n",
       "    <tr>\n",
       "      <th>FECHA_ACTUALIZACION</th>\n",
       "      <th></th>\n",
       "      <th></th>\n",
       "      <th></th>\n",
       "      <th></th>\n",
       "      <th></th>\n",
       "      <th></th>\n",
       "      <th></th>\n",
       "      <th></th>\n",
       "      <th></th>\n",
       "      <th></th>\n",
       "      <th></th>\n",
       "      <th></th>\n",
       "      <th></th>\n",
       "      <th></th>\n",
       "      <th></th>\n",
       "      <th></th>\n",
       "      <th></th>\n",
       "      <th></th>\n",
       "      <th></th>\n",
       "      <th></th>\n",
       "      <th></th>\n",
       "    </tr>\n",
       "  </thead>\n",
       "  <tbody>\n",
       "    <tr>\n",
       "      <th>2020-05-07</th>\n",
       "      <td>181b6b</td>\n",
       "      <td>1</td>\n",
       "      <td>4</td>\n",
       "      <td>5</td>\n",
       "      <td>2</td>\n",
       "      <td>5</td>\n",
       "      <td>5</td>\n",
       "      <td>35</td>\n",
       "      <td>1</td>\n",
       "      <td>2020-01-28</td>\n",
       "      <td>...</td>\n",
       "      <td>2</td>\n",
       "      <td>2</td>\n",
       "      <td>2</td>\n",
       "      <td>1</td>\n",
       "      <td>99</td>\n",
       "      <td>1</td>\n",
       "      <td>99</td>\n",
       "      <td>México</td>\n",
       "      <td>99</td>\n",
       "      <td>97</td>\n",
       "    </tr>\n",
       "    <tr>\n",
       "      <th>2020-05-07</th>\n",
       "      <td>06f865</td>\n",
       "      <td>1</td>\n",
       "      <td>4</td>\n",
       "      <td>5</td>\n",
       "      <td>2</td>\n",
       "      <td>5</td>\n",
       "      <td>5</td>\n",
       "      <td>18</td>\n",
       "      <td>2</td>\n",
       "      <td>2020-03-16</td>\n",
       "      <td>...</td>\n",
       "      <td>2</td>\n",
       "      <td>2</td>\n",
       "      <td>2</td>\n",
       "      <td>2</td>\n",
       "      <td>99</td>\n",
       "      <td>1</td>\n",
       "      <td>99</td>\n",
       "      <td>México</td>\n",
       "      <td>99</td>\n",
       "      <td>2</td>\n",
       "    </tr>\n",
       "    <tr>\n",
       "      <th>2020-05-07</th>\n",
       "      <td>0f39c1</td>\n",
       "      <td>1</td>\n",
       "      <td>4</td>\n",
       "      <td>24</td>\n",
       "      <td>1</td>\n",
       "      <td>25</td>\n",
       "      <td>24</td>\n",
       "      <td>28</td>\n",
       "      <td>1</td>\n",
       "      <td>2020-03-20</td>\n",
       "      <td>...</td>\n",
       "      <td>2</td>\n",
       "      <td>2</td>\n",
       "      <td>2</td>\n",
       "      <td>2</td>\n",
       "      <td>99</td>\n",
       "      <td>1</td>\n",
       "      <td>99</td>\n",
       "      <td>México</td>\n",
       "      <td>99</td>\n",
       "      <td>97</td>\n",
       "    </tr>\n",
       "    <tr>\n",
       "      <th>2020-05-07</th>\n",
       "      <td>1070bf</td>\n",
       "      <td>1</td>\n",
       "      <td>4</td>\n",
       "      <td>15</td>\n",
       "      <td>1</td>\n",
       "      <td>15</td>\n",
       "      <td>15</td>\n",
       "      <td>99</td>\n",
       "      <td>2</td>\n",
       "      <td>2020-03-25</td>\n",
       "      <td>...</td>\n",
       "      <td>2</td>\n",
       "      <td>2</td>\n",
       "      <td>2</td>\n",
       "      <td>2</td>\n",
       "      <td>99</td>\n",
       "      <td>1</td>\n",
       "      <td>99</td>\n",
       "      <td>México</td>\n",
       "      <td>99</td>\n",
       "      <td>2</td>\n",
       "    </tr>\n",
       "    <tr>\n",
       "      <th>2020-05-07</th>\n",
       "      <td>1940e4</td>\n",
       "      <td>1</td>\n",
       "      <td>4</td>\n",
       "      <td>15</td>\n",
       "      <td>2</td>\n",
       "      <td>21</td>\n",
       "      <td>15</td>\n",
       "      <td>120</td>\n",
       "      <td>2</td>\n",
       "      <td>2020-03-23</td>\n",
       "      <td>...</td>\n",
       "      <td>2</td>\n",
       "      <td>2</td>\n",
       "      <td>2</td>\n",
       "      <td>2</td>\n",
       "      <td>99</td>\n",
       "      <td>2</td>\n",
       "      <td>99</td>\n",
       "      <td>México</td>\n",
       "      <td>99</td>\n",
       "      <td>2</td>\n",
       "    </tr>\n",
       "    <tr>\n",
       "      <th>2020-05-07</th>\n",
       "      <td>0cc76d</td>\n",
       "      <td>1</td>\n",
       "      <td>4</td>\n",
       "      <td>24</td>\n",
       "      <td>1</td>\n",
       "      <td>24</td>\n",
       "      <td>24</td>\n",
       "      <td>35</td>\n",
       "      <td>1</td>\n",
       "      <td>2020-03-28</td>\n",
       "      <td>...</td>\n",
       "      <td>2</td>\n",
       "      <td>2</td>\n",
       "      <td>2</td>\n",
       "      <td>2</td>\n",
       "      <td>99</td>\n",
       "      <td>2</td>\n",
       "      <td>99</td>\n",
       "      <td>México</td>\n",
       "      <td>99</td>\n",
       "      <td>97</td>\n",
       "    </tr>\n",
       "    <tr>\n",
       "      <th>2020-05-07</th>\n",
       "      <td>10e535</td>\n",
       "      <td>1</td>\n",
       "      <td>4</td>\n",
       "      <td>26</td>\n",
       "      <td>1</td>\n",
       "      <td>26</td>\n",
       "      <td>26</td>\n",
       "      <td>30</td>\n",
       "      <td>2</td>\n",
       "      <td>2020-03-28</td>\n",
       "      <td>...</td>\n",
       "      <td>2</td>\n",
       "      <td>2</td>\n",
       "      <td>2</td>\n",
       "      <td>2</td>\n",
       "      <td>99</td>\n",
       "      <td>2</td>\n",
       "      <td>99</td>\n",
       "      <td>México</td>\n",
       "      <td>99</td>\n",
       "      <td>2</td>\n",
       "    </tr>\n",
       "  </tbody>\n",
       "</table>\n",
       "<p>7 rows × 34 columns</p>\n",
       "</div>"
      ],
      "text/plain": [
       "                    ID_REGISTRO  ORIGEN  SECTOR  ENTIDAD_UM  SEXO  \\\n",
       "FECHA_ACTUALIZACION                                                 \n",
       "2020-05-07               181b6b       1       4           5     2   \n",
       "2020-05-07               06f865       1       4           5     2   \n",
       "2020-05-07               0f39c1       1       4          24     1   \n",
       "2020-05-07               1070bf       1       4          15     1   \n",
       "2020-05-07               1940e4       1       4          15     2   \n",
       "2020-05-07               0cc76d       1       4          24     1   \n",
       "2020-05-07               10e535       1       4          26     1   \n",
       "\n",
       "                     ENTIDAD_NAC  ENTIDAD_RES  MUNICIPIO_RES  TIPO_PACIENTE  \\\n",
       "FECHA_ACTUALIZACION                                                           \n",
       "2020-05-07                     5            5             35              1   \n",
       "2020-05-07                     5            5             18              2   \n",
       "2020-05-07                    25           24             28              1   \n",
       "2020-05-07                    15           15             99              2   \n",
       "2020-05-07                    21           15            120              2   \n",
       "2020-05-07                    24           24             35              1   \n",
       "2020-05-07                    26           26             30              2   \n",
       "\n",
       "                    FECHA_INGRESO  ... CARDIOVASCULAR OBESIDAD  RENAL_CRONICA  \\\n",
       "FECHA_ACTUALIZACION                ...                                          \n",
       "2020-05-07             2020-01-28  ...              2        2              2   \n",
       "2020-05-07             2020-03-16  ...              2        2              2   \n",
       "2020-05-07             2020-03-20  ...              2        2              2   \n",
       "2020-05-07             2020-03-25  ...              2        2              2   \n",
       "2020-05-07             2020-03-23  ...              2        2              2   \n",
       "2020-05-07             2020-03-28  ...              2        2              2   \n",
       "2020-05-07             2020-03-28  ...              2        2              2   \n",
       "\n",
       "                     TABAQUISMO  OTRO_CASO  RESULTADO  MIGRANTE  \\\n",
       "FECHA_ACTUALIZACION                                               \n",
       "2020-05-07                    1         99          1        99   \n",
       "2020-05-07                    2         99          1        99   \n",
       "2020-05-07                    2         99          1        99   \n",
       "2020-05-07                    2         99          1        99   \n",
       "2020-05-07                    2         99          2        99   \n",
       "2020-05-07                    2         99          2        99   \n",
       "2020-05-07                    2         99          2        99   \n",
       "\n",
       "                     PAIS_NACIONALIDAD  PAIS_ORIGEN  UCI  \n",
       "FECHA_ACTUALIZACION                                       \n",
       "2020-05-07                      México           99   97  \n",
       "2020-05-07                      México           99    2  \n",
       "2020-05-07                      México           99   97  \n",
       "2020-05-07                      México           99    2  \n",
       "2020-05-07                      México           99    2  \n",
       "2020-05-07                      México           99   97  \n",
       "2020-05-07                      México           99    2  \n",
       "\n",
       "[7 rows x 34 columns]"
      ]
     },
     "execution_count": 2,
     "metadata": {},
     "output_type": "execute_result"
    }
   ],
   "source": [
    "data = pd.read_csv(\"Reportes/Nuevos/datos_abiertos_covid19/COVID19_Mexico.csv\", sep=',', index_col=0)\n",
    "data.head(7)"
   ]
  },
  {
   "cell_type": "code",
   "execution_count": 3,
   "metadata": {},
   "outputs": [
    {
     "name": "stdout",
     "output_type": "stream",
     "text": [
      "Index(['ID_REGISTRO', 'ORIGEN', 'SECTOR', 'ENTIDAD_UM', 'SEXO', 'ENTIDAD_NAC',\n",
      "       'ENTIDAD_RES', 'MUNICIPIO_RES', 'TIPO_PACIENTE', 'FECHA_INGRESO',\n",
      "       'FECHA_SINTOMAS', 'FECHA_DEF', 'INTUBADO', 'NEUMONIA', 'EDAD',\n",
      "       'NACIONALIDAD', 'EMBARAZO', 'HABLA_LENGUA_INDIG', 'DIABETES', 'EPOC',\n",
      "       'ASMA', 'INMUSUPR', 'HIPERTENSION', 'OTRA_COM', 'CARDIOVASCULAR',\n",
      "       'OBESIDAD', 'RENAL_CRONICA', 'TABAQUISMO', 'OTRO_CASO', 'RESULTADO',\n",
      "       'MIGRANTE', 'PAIS_NACIONALIDAD', 'PAIS_ORIGEN', 'UCI'],\n",
      "      dtype='object')\n",
      "(117211, 34)\n",
      "117211\n"
     ]
    }
   ],
   "source": [
    "print(data.columns)\n",
    "print(data.shape)\n",
    "registers = data.shape[0]\n",
    "print(registers)"
   ]
  },
  {
   "cell_type": "code",
   "execution_count": 4,
   "metadata": {},
   "outputs": [],
   "source": [
    "data['FECHA_INGRESO'] = pd.to_datetime(data['FECHA_INGRESO'], format='%Y/%m/%d')\n",
    "data['FECHA_SINTOMAS'] = pd.to_datetime(data['FECHA_SINTOMAS'], format='%Y/%m/%d')\n",
    "\n",
    "data['STATUS'] = [\"VIVO\" if value=='9999-99-99' else \"FALLECIDO\" for value in data['FECHA_DEF']]\n",
    "\n",
    "data['FECHA_DEF'] = data['FECHA_DEF'].replace('9999-99-99',np.NaN)\n",
    "data['FECHA_DEF'] = pd.to_datetime(data['FECHA_DEF'], format='%Y/%m/%d')\n",
    "\n",
    "#data['FECHA_DEF'].replace('9999-99-99',np.NaN)\n",
    "#pd.to_datetime(data[\"FECHA_DEF\"], format='%d/%m/%Y')\n",
    "#data.isnull().any()\n",
    "#data['FECHA_DEF'] = data['FECHA_DEF'] == '9999-99-99' ? '' : data['FECHA_DEF']"
   ]
  },
  {
   "cell_type": "code",
   "execution_count": 5,
   "metadata": {},
   "outputs": [],
   "source": [
    "xl_file = pd.ExcelFile(\"Reportes/Nuevos/diccionario_datos_covid19/Catalogos_0412.xlsx\")\n",
    "dfs = {sheet_name: xl_file.parse(sheet_name) \n",
    "          for sheet_name in xl_file.sheet_names}"
   ]
  },
  {
   "cell_type": "code",
   "execution_count": 6,
   "metadata": {},
   "outputs": [],
   "source": [
    "origen = dfs['Catálogo ORIGEN'].set_index('CLAVE').to_dict()['DESCRIPCIÓN']\n",
    "sector = dfs['Catálogo SECTOR'].set_index('CLAVE').to_dict()['DESCRIPCIÓN']\n",
    "sexo = dfs['Catálogo SEXO'].set_index('CLAVE').to_dict()['DESCRIPCIÓN']\n",
    "tipo_paciente = dfs['Catálogo TIPO_PACIENTE'].set_index('CLAVE').to_dict()['DESCRIPCIÓN']\n",
    "si_no = dfs['Catálogo SI_NO'].set_index('CLAVE').to_dict()['DESCRIPCIÓN']\n",
    "nacionalidad = dfs['Catálogo NACIONALIDAD'].set_index('CLAVE').to_dict()['DESCRIPCIÓN']\n",
    "resultado = dfs['Catálogo RESULTADO'][1:].set_index('Unnamed: 0').to_dict()['Unnamed: 1']\n",
    "entidades = dfs['Catálogo de ENTIDADES'].set_index('CLAVE_ENTIDAD')['ABREVIATURA']\n",
    "municipios = dfs['Catálogo MUNICIPIOS'].set_index(['CLAVE_ENTIDAD','CLAVE_MUNICIPIO']).to_dict()['MUNICIPIO']"
   ]
  },
  {
   "cell_type": "code",
   "execution_count": 7,
   "metadata": {},
   "outputs": [],
   "source": [
    "#result = list(data[['ENTIDAD_RES','MUNICIPIO_RES']].to_records(index=False))\n",
    "\n",
    "def replace_touple(df, col, dicc, colOut):\n",
    "    salida = []\n",
    "    salida = list()\n",
    "    for key1, key2 in df[col]:\n",
    "        if (key1,key2) in dicc:\n",
    "            salida.append(dicc[(key1,key2)])\n",
    "        else:\n",
    "            salida.append(np.NaN)\n",
    "       \n",
    "    df[colOut] = salida\n",
    "\n",
    "#tmp = [v in municipios for v in dataf['ENTIDAD_MUNICIPIO_RES']] \n",
    "#dataf.loc[tmp]\n",
    "\n",
    "#dataf['ENTIDAD_MUNICIPIO_RES'].mask(dataf['ENTIDAD_MUNICIPIO_RES'] == (15,37), (1,1)), inplace=True)"
   ]
  },
  {
   "cell_type": "code",
   "execution_count": 8,
   "metadata": {
    "scrolled": true
   },
   "outputs": [
    {
     "data": {
      "text/html": [
       "<div>\n",
       "<style scoped>\n",
       "    .dataframe tbody tr th:only-of-type {\n",
       "        vertical-align: middle;\n",
       "    }\n",
       "\n",
       "    .dataframe tbody tr th {\n",
       "        vertical-align: top;\n",
       "    }\n",
       "\n",
       "    .dataframe thead th {\n",
       "        text-align: right;\n",
       "    }\n",
       "</style>\n",
       "<table border=\"1\" class=\"dataframe\">\n",
       "  <thead>\n",
       "    <tr style=\"text-align: right;\">\n",
       "      <th></th>\n",
       "      <th>ID_REGISTRO</th>\n",
       "      <th>ORIGEN</th>\n",
       "      <th>SECTOR</th>\n",
       "      <th>ENTIDAD_UM</th>\n",
       "      <th>SEXO</th>\n",
       "      <th>ENTIDAD_NAC</th>\n",
       "      <th>ENTIDAD_RES</th>\n",
       "      <th>MUNICIPIO_RES</th>\n",
       "      <th>TIPO_PACIENTE</th>\n",
       "      <th>FECHA_INGRESO</th>\n",
       "      <th>...</th>\n",
       "      <th>OTRO_CASO</th>\n",
       "      <th>RESULTADO</th>\n",
       "      <th>MIGRANTE</th>\n",
       "      <th>PAIS_NACIONALIDAD</th>\n",
       "      <th>PAIS_ORIGEN</th>\n",
       "      <th>UCI</th>\n",
       "      <th>STATUS</th>\n",
       "      <th>ENTIDAD_MUNICIPIO_RES</th>\n",
       "      <th>DIAS_INGRESO_SINTOMAS</th>\n",
       "      <th>DIAS_SINTOMAS_DEF</th>\n",
       "    </tr>\n",
       "    <tr>\n",
       "      <th>FECHA_ACTUALIZACION</th>\n",
       "      <th></th>\n",
       "      <th></th>\n",
       "      <th></th>\n",
       "      <th></th>\n",
       "      <th></th>\n",
       "      <th></th>\n",
       "      <th></th>\n",
       "      <th></th>\n",
       "      <th></th>\n",
       "      <th></th>\n",
       "      <th></th>\n",
       "      <th></th>\n",
       "      <th></th>\n",
       "      <th></th>\n",
       "      <th></th>\n",
       "      <th></th>\n",
       "      <th></th>\n",
       "      <th></th>\n",
       "      <th></th>\n",
       "      <th></th>\n",
       "      <th></th>\n",
       "    </tr>\n",
       "  </thead>\n",
       "  <tbody>\n",
       "    <tr>\n",
       "      <th>2020-05-07</th>\n",
       "      <td>181b6b</td>\n",
       "      <td>USMER</td>\n",
       "      <td>IMSS</td>\n",
       "      <td>CL</td>\n",
       "      <td>HOMBRE</td>\n",
       "      <td>CL</td>\n",
       "      <td>CL</td>\n",
       "      <td>TORREÓN</td>\n",
       "      <td>AMBULATORIO</td>\n",
       "      <td>2020-01-28</td>\n",
       "      <td>...</td>\n",
       "      <td>NO ESPECIFICADO</td>\n",
       "      <td>Positivo SARS-CoV-2</td>\n",
       "      <td>NO ESPECIFICADO</td>\n",
       "      <td>México</td>\n",
       "      <td>99</td>\n",
       "      <td>NO APLICA</td>\n",
       "      <td>VIVO</td>\n",
       "      <td>(5, 35)</td>\n",
       "      <td>0</td>\n",
       "      <td>NaN</td>\n",
       "    </tr>\n",
       "    <tr>\n",
       "      <th>2020-05-07</th>\n",
       "      <td>06f865</td>\n",
       "      <td>USMER</td>\n",
       "      <td>IMSS</td>\n",
       "      <td>CL</td>\n",
       "      <td>HOMBRE</td>\n",
       "      <td>CL</td>\n",
       "      <td>CL</td>\n",
       "      <td>MONCLOVA</td>\n",
       "      <td>HOSPITALIZADO</td>\n",
       "      <td>2020-03-16</td>\n",
       "      <td>...</td>\n",
       "      <td>NO ESPECIFICADO</td>\n",
       "      <td>Positivo SARS-CoV-2</td>\n",
       "      <td>NO ESPECIFICADO</td>\n",
       "      <td>México</td>\n",
       "      <td>99</td>\n",
       "      <td>NO</td>\n",
       "      <td>FALLECIDO</td>\n",
       "      <td>(5, 18)</td>\n",
       "      <td>0</td>\n",
       "      <td>12.0</td>\n",
       "    </tr>\n",
       "    <tr>\n",
       "      <th>2020-05-07</th>\n",
       "      <td>0f39c1</td>\n",
       "      <td>USMER</td>\n",
       "      <td>IMSS</td>\n",
       "      <td>SP</td>\n",
       "      <td>MUJER</td>\n",
       "      <td>SL</td>\n",
       "      <td>SP</td>\n",
       "      <td>SAN LUIS POTOSÍ</td>\n",
       "      <td>AMBULATORIO</td>\n",
       "      <td>2020-03-20</td>\n",
       "      <td>...</td>\n",
       "      <td>NO ESPECIFICADO</td>\n",
       "      <td>Positivo SARS-CoV-2</td>\n",
       "      <td>NO ESPECIFICADO</td>\n",
       "      <td>México</td>\n",
       "      <td>99</td>\n",
       "      <td>NO APLICA</td>\n",
       "      <td>VIVO</td>\n",
       "      <td>(24, 28)</td>\n",
       "      <td>2</td>\n",
       "      <td>NaN</td>\n",
       "    </tr>\n",
       "    <tr>\n",
       "      <th>2020-05-07</th>\n",
       "      <td>1070bf</td>\n",
       "      <td>USMER</td>\n",
       "      <td>IMSS</td>\n",
       "      <td>MC</td>\n",
       "      <td>MUJER</td>\n",
       "      <td>MC</td>\n",
       "      <td>MC</td>\n",
       "      <td>TEXCOCO</td>\n",
       "      <td>HOSPITALIZADO</td>\n",
       "      <td>2020-03-25</td>\n",
       "      <td>...</td>\n",
       "      <td>NO ESPECIFICADO</td>\n",
       "      <td>Positivo SARS-CoV-2</td>\n",
       "      <td>NO ESPECIFICADO</td>\n",
       "      <td>México</td>\n",
       "      <td>99</td>\n",
       "      <td>NO</td>\n",
       "      <td>VIVO</td>\n",
       "      <td>(15, 99)</td>\n",
       "      <td>5</td>\n",
       "      <td>NaN</td>\n",
       "    </tr>\n",
       "    <tr>\n",
       "      <th>2020-05-07</th>\n",
       "      <td>1940e4</td>\n",
       "      <td>USMER</td>\n",
       "      <td>IMSS</td>\n",
       "      <td>MC</td>\n",
       "      <td>HOMBRE</td>\n",
       "      <td>PL</td>\n",
       "      <td>MC</td>\n",
       "      <td>ZUMPANGO</td>\n",
       "      <td>HOSPITALIZADO</td>\n",
       "      <td>2020-03-23</td>\n",
       "      <td>...</td>\n",
       "      <td>NO ESPECIFICADO</td>\n",
       "      <td>No positivo SARS-CoV-2</td>\n",
       "      <td>NO ESPECIFICADO</td>\n",
       "      <td>México</td>\n",
       "      <td>99</td>\n",
       "      <td>NO</td>\n",
       "      <td>VIVO</td>\n",
       "      <td>(15, 120)</td>\n",
       "      <td>0</td>\n",
       "      <td>NaN</td>\n",
       "    </tr>\n",
       "  </tbody>\n",
       "</table>\n",
       "<p>5 rows × 38 columns</p>\n",
       "</div>"
      ],
      "text/plain": [
       "                    ID_REGISTRO ORIGEN SECTOR ENTIDAD_UM    SEXO ENTIDAD_NAC  \\\n",
       "FECHA_ACTUALIZACION                                                            \n",
       "2020-05-07               181b6b  USMER   IMSS         CL  HOMBRE          CL   \n",
       "2020-05-07               06f865  USMER   IMSS         CL  HOMBRE          CL   \n",
       "2020-05-07               0f39c1  USMER   IMSS         SP   MUJER          SL   \n",
       "2020-05-07               1070bf  USMER   IMSS         MC   MUJER          MC   \n",
       "2020-05-07               1940e4  USMER   IMSS         MC  HOMBRE          PL   \n",
       "\n",
       "                    ENTIDAD_RES    MUNICIPIO_RES  TIPO_PACIENTE FECHA_INGRESO  \\\n",
       "FECHA_ACTUALIZACION                                                             \n",
       "2020-05-07                   CL          TORREÓN    AMBULATORIO    2020-01-28   \n",
       "2020-05-07                   CL         MONCLOVA  HOSPITALIZADO    2020-03-16   \n",
       "2020-05-07                   SP  SAN LUIS POTOSÍ    AMBULATORIO    2020-03-20   \n",
       "2020-05-07                   MC          TEXCOCO  HOSPITALIZADO    2020-03-25   \n",
       "2020-05-07                   MC         ZUMPANGO  HOSPITALIZADO    2020-03-23   \n",
       "\n",
       "                     ...        OTRO_CASO               RESULTADO  \\\n",
       "FECHA_ACTUALIZACION  ...                                            \n",
       "2020-05-07           ...  NO ESPECIFICADO     Positivo SARS-CoV-2   \n",
       "2020-05-07           ...  NO ESPECIFICADO     Positivo SARS-CoV-2   \n",
       "2020-05-07           ...  NO ESPECIFICADO     Positivo SARS-CoV-2   \n",
       "2020-05-07           ...  NO ESPECIFICADO     Positivo SARS-CoV-2   \n",
       "2020-05-07           ...  NO ESPECIFICADO  No positivo SARS-CoV-2   \n",
       "\n",
       "                            MIGRANTE PAIS_NACIONALIDAD  PAIS_ORIGEN  \\\n",
       "FECHA_ACTUALIZACION                                                   \n",
       "2020-05-07           NO ESPECIFICADO            México           99   \n",
       "2020-05-07           NO ESPECIFICADO            México           99   \n",
       "2020-05-07           NO ESPECIFICADO            México           99   \n",
       "2020-05-07           NO ESPECIFICADO            México           99   \n",
       "2020-05-07           NO ESPECIFICADO            México           99   \n",
       "\n",
       "                           UCI     STATUS  ENTIDAD_MUNICIPIO_RES  \\\n",
       "FECHA_ACTUALIZACION                                                \n",
       "2020-05-07           NO APLICA       VIVO                (5, 35)   \n",
       "2020-05-07                 NO   FALLECIDO                (5, 18)   \n",
       "2020-05-07           NO APLICA       VIVO               (24, 28)   \n",
       "2020-05-07                 NO        VIVO               (15, 99)   \n",
       "2020-05-07                 NO        VIVO              (15, 120)   \n",
       "\n",
       "                    DIAS_INGRESO_SINTOMAS DIAS_SINTOMAS_DEF  \n",
       "FECHA_ACTUALIZACION                                          \n",
       "2020-05-07                              0               NaN  \n",
       "2020-05-07                              0              12.0  \n",
       "2020-05-07                              2               NaN  \n",
       "2020-05-07                              5               NaN  \n",
       "2020-05-07                              0               NaN  \n",
       "\n",
       "[5 rows x 38 columns]"
      ]
     },
     "execution_count": 8,
     "metadata": {},
     "output_type": "execute_result"
    }
   ],
   "source": [
    "dataf = data.copy()\n",
    "dataf['ENTIDAD_MUNICIPIO_RES'] = list(zip(dataf['ENTIDAD_RES'], dataf['MUNICIPIO_RES']))\n",
    "replace_touple(dataf, 'ENTIDAD_MUNICIPIO_RES', municipios, 'MUNICIPIO_RES')\n",
    "\n",
    "dataf = dataf.replace({'ORIGEN': origen})\n",
    "dataf = dataf.replace({'SECTOR': sector})\n",
    "dataf = dataf.replace({'ENTIDAD_UM': entidades})\n",
    "dataf = dataf.replace({'SEXO': sexo})\n",
    "dataf = dataf.replace({'ENTIDAD_NAC': entidades})\n",
    "dataf = dataf.replace({'ENTIDAD_RES': entidades})\n",
    "dataf = dataf.replace({'TIPO_PACIENTE': tipo_paciente})\n",
    "dataf = dataf.replace({'INTUBADO': si_no})\n",
    "dataf = dataf.replace({'NEUMONIA': si_no})\n",
    "dataf = dataf.replace({'NACIONALIDAD': nacionalidad})\n",
    "dataf = dataf.replace({'EMBARAZO': si_no})\n",
    "dataf = dataf.replace({'HABLA_LENGUA_INDI': si_no})\n",
    "dataf = dataf.replace({'DIABETES': si_no})\n",
    "dataf = dataf.replace({'EPOC': si_no})\n",
    "dataf = dataf.replace({'ASMA': si_no})\n",
    "dataf = dataf.replace({'INMUSUPR': si_no})\n",
    "dataf = dataf.replace({'HIPERTENSION': si_no})\n",
    "dataf = dataf.replace({'OTRA_CON': si_no})\n",
    "dataf = dataf.replace({'CARDIOVASCULAR': si_no})\n",
    "dataf = dataf.replace({'OBESIDAD': si_no})\n",
    "dataf = dataf.replace({'RENAL_CRONICA': si_no})\n",
    "dataf = dataf.replace({'TABAQUISMO': si_no})\n",
    "dataf = dataf.replace({'OTRO_CASO': si_no})\n",
    "dataf = dataf.replace({'RESULTADO': resultado})\n",
    "dataf = dataf.replace({'MIGRANTE': si_no})\n",
    "#dataf = dataf.replace({'PAIS_NACIONALIDAD': origen})\n",
    "#dataf = dataf.replace({'PAIS_ORIGEN': origen})\n",
    "dataf = dataf.replace({'UCI': si_no})\n",
    "\n",
    "dataf['DIAS_INGRESO_SINTOMAS'] = (dataf['FECHA_INGRESO'] - dataf['FECHA_SINTOMAS']).dt.days\n",
    "dataf['DIAS_SINTOMAS_DEF'] = (dataf['FECHA_DEF'] - dataf['FECHA_SINTOMAS']).dt.days\n",
    "\n",
    "dataf.head()"
   ]
  },
  {
   "cell_type": "code",
   "execution_count": 9,
   "metadata": {
    "scrolled": true
   },
   "outputs": [
    {
     "data": {
      "text/plain": [
       "<matplotlib.axes._subplots.AxesSubplot at 0x7f4abf8c7410>"
      ]
     },
     "execution_count": 9,
     "metadata": {},
     "output_type": "execute_result"
    },
    {
     "data": {
      "image/png": "[encoded data removed]",
      "text/plain": [
       "<Figure size 1080x720 with 1 Axes>"
      ]
     },
     "metadata": {
      "needs_background": "light"
     },
     "output_type": "display_data"
    }
   ],
   "source": [
    "#print(dataf.columns)\n",
    "dataq1 = dataf.query('RESULTADO ==\"Positivo SARS-CoV-2\"')\n",
    "\n",
    "fechas_serie = pd.date_range('20200217', periods=78, freq='D')\n",
    "fechas_dataFrame = (fechas_serie.to_frame(name='Fecha'))\n",
    "\n",
    "fechaSintomas = dataq1.groupby(['FECHA_SINTOMAS']).count()['DIAS_INGRESO_SINTOMAS'].to_frame(name='FECHA_SINTOMAS')\n",
    "fechaIngreso = dataq1.groupby(['FECHA_INGRESO']).count()['DIAS_INGRESO_SINTOMAS'].to_frame(name='FECHA_INGRESO')\n",
    "fechadef = dataq1.groupby(['FECHA_DEF']).count()['DIAS_SINTOMAS_DEF'].to_frame(name='FECHA_DEF')\n",
    "\n",
    "fechas = fechas_dataFrame.join(fechaSintomas, lsuffix='si', rsuffix='_other')\n",
    "fechas = fechas.join(fechaIngreso, lsuffix='_caller', rsuffix='_other')\n",
    "fechas = fechas.join(fechadef, lsuffix='_caller', rsuffix='_other')\n",
    "\n",
    "fechas = fechas.drop(['Fecha'], axis=1)\n",
    "\n",
    "fechas.plot(kind='bar', figsize=(15,10))"
   ]
  },
  {
   "cell_type": "code",
   "execution_count": 62,
   "metadata": {},
   "outputs": [
    {
     "data": {
      "text/plain": [
       "<matplotlib.axes._subplots.AxesSubplot at 0x7f4ab3effa50>"
      ]
     },
     "execution_count": 62,
     "metadata": {},
     "output_type": "execute_result"
    },
    {
     "data": {
      "image/png": "[encoded data removed]",
      "text/plain": [
       "<Figure size 1080x720 with 1 Axes>"
      ]
     },
     "metadata": {
      "needs_background": "light"
     },
     "output_type": "display_data"
    }
   ],
   "source": [
    "#print(dataf.columns)\n",
    "dataq1 = dataf.query('RESULTADO ==\"Positivo SARS-CoV-2\"')\n",
    "\n",
    "#sintomas = dataq1.groupby(['ENTIDAD_RES']).sum()['DIAS_SINTOMAS_DEF'].to_frame(name='FECHA_SINTOMAS')\n",
    "ingreso = dataq1.groupby(['ENTIDAD_RES'])['DIAS_INGRESO_SINTOMAS'].agg([np.mean]) #.agg([np.sum, pd.Series.count, np.mean, np.std])\n",
    "defunciones = dataq1.groupby(['ENTIDAD_RES'])['DIAS_SINTOMAS_DEF'].agg([np.mean])\n",
    "\n",
    "ingreso = ingreso.join(defunciones, lsuffix='_ingreso', rsuffix='_defunción')\n",
    "\n",
    "ingreso.plot(kind='bar', figsize=(15,10))"
   ]
  },
  {
   "cell_type": "code",
   "execution_count": 92,
   "metadata": {},
   "outputs": [
    {
     "data": {
      "text/plain": [
       "<matplotlib.axes._subplots.AxesSubplot at 0x7f4ab14e9a10>"
      ]
     },
     "execution_count": 92,
     "metadata": {},
     "output_type": "execute_result"
    },
    {
     "data": {
      "image/png": "[encoded data removed]",
      "text/plain": [
       "<Figure size 1080x720 with 1 Axes>"
      ]
     },
     "metadata": {
      "needs_background": "light"
     },
     "output_type": "display_data"
    }
   ],
   "source": [
    "#print(dataf.columns)\n",
    "#dataq1 = dataf.query('RESULTADO ==\"Positivo SARS-CoV-2\" and ENTIDAD_UM == \"DF\"')\n",
    "dataq1 = dataf.query('RESULTADO ==\"Positivo SARS-CoV-2\"')\n",
    "\n",
    "sintomas = dataq1.groupby(['ENTIDAD_RES'])['FECHA_INGRESO'].agg(['count'])\n",
    "ingreso = dataq1.groupby(['ENTIDAD_RES'])['FECHA_SINTOMAS'].agg(['count']) #.agg([np.sum, pd.Series.count, np.mean, np.std])\n",
    "defunciones = dataq1.groupby(['ENTIDAD_RES'])['FECHA_DEF'].agg(['count'])\n",
    "\n",
    "#sintomas = sintomas.join(ingreso, lsuffix='_ingreso', rsuffix='_sintomas')\n",
    "ingreso = ingreso.join(defunciones, lsuffix='_ingreso', rsuffix='_defunciones')\n",
    "\n",
    "ingreso.plot(kind='bar', figsize=(15,10))"
   ]
  },
  {
   "cell_type": "code",
   "execution_count": 12,
   "metadata": {},
   "outputs": [
    {
     "name": "stdout",
     "output_type": "stream",
     "text": [
      "                                count              \n",
      "TIPO_PACIENTE             AMBULATORIO HOSPITALIZADO\n",
      "SECTOR          STATUS                             \n",
      "CRUZ ROJA       FALLECIDO         1.0           NaN\n",
      "ESTATAL         FALLECIDO         6.0          64.0\n",
      "IMSS            FALLECIDO        83.0        1123.0\n",
      "ISSSTE          FALLECIDO        14.0         200.0\n",
      "MUNICIPAL       FALLECIDO         1.0           NaN\n",
      "NO ESPECIFICADO FALLECIDO         2.0           8.0\n",
      "PEMEX           FALLECIDO         4.0          45.0\n",
      "PRIVADA         FALLECIDO        10.0          49.0\n",
      "SEMAR           FALLECIDO         2.0           5.0\n",
      "SSA             FALLECIDO       166.0        1165.0\n",
      "UNIVERSITARIO   FALLECIDO         NaN          13.0\n"
     ]
    },
    {
     "data": {
      "text/plain": [
       "<matplotlib.axes._subplots.AxesSubplot at 0x7f4abf0a73d0>"
      ]
     },
     "execution_count": 12,
     "metadata": {},
     "output_type": "execute_result"
    },
    {
     "data": {
      "image/png": "[encoded data removed]",
      "text/plain": [
       "<Figure size 1080x720 with 1 Axes>"
      ]
     },
     "metadata": {
      "needs_background": "light"
     },
     "output_type": "display_data"
    }
   ],
   "source": [
    "#print(dataf.columns)\n",
    "#dataq1 = dataf.query('RESULTADO ==\"Positivo SARS-CoV-2\" and ENTIDAD_UM == \"JC\" and STATUS == \"FALLECIDO\"')\n",
    "dataq1 = dataf.query('RESULTADO ==\"Positivo SARS-CoV-2\" and STATUS == \"FALLECIDO\"')\n",
    "#dataq1 = dataf.query('RESULTADO ==\"Positivo SARS-CoV-2\"')\n",
    "dataq1 = dataq1[['SECTOR','ENTIDAD_UM','TIPO_PACIENTE','FECHA_INGRESO','FECHA_SINTOMAS','FECHA_DEF','STATUS']]\n",
    "\n",
    "#dataq1 = dataq1.groupby(['ENTIDAD_RES','SECTOR'])['DIAS_INGRESO_SINTOMAS'].agg(['count']).unstack(1)\n",
    "\n",
    "dataq1 = dataq1.groupby(['SECTOR','TIPO_PACIENTE','STATUS'])['ENTIDAD_UM'].agg(['count']).unstack(1)\n",
    "\n",
    "\n",
    "print(dataq1)\n",
    "\n",
    "dataq1.plot(kind='bar', figsize=(15,10))"
   ]
  },
  {
   "cell_type": "code",
   "execution_count": 81,
   "metadata": {},
   "outputs": [
    {
     "data": {
      "text/plain": [
       "<matplotlib.axes._subplots.AxesSubplot at 0x7f4ab212f650>"
      ]
     },
     "execution_count": 81,
     "metadata": {},
     "output_type": "execute_result"
    },
    {
     "data": {
      "image/png": "[encoded data removed]",
      "text/plain": [
       "<Figure size 1080x720 with 1 Axes>"
      ]
     },
     "metadata": {
      "needs_background": "light"
     },
     "output_type": "display_data"
    }
   ],
   "source": [
    "#print(dataf.columns)\n",
    "#dataq1 = dataf.query('RESULTADO ==\"Positivo SARS-CoV-2\"')\n",
    "#dataq1 = dataq1[['SECTOR','ENTIDAD_UM','TIPO_PACIENTE','FECHA_INGRESO','FECHA_SINTOMAS','FECHA_DEF','STATUS']]\n",
    "\n",
    "#dataq1 = dataq1.groupby(['ENTIDAD_RES','SECTOR'])['DIAS_INGRESO_SINTOMAS'].agg(['count']).unstack(1)\n",
    "\n",
    "#dataq1 = dataq1.groupby(['FECHA_INGRESO'])['ENTIDAD_UM'].agg(['count']).unstack(1)\n",
    "\n",
    "#print(dataq1.head())\n",
    "\n",
    "#dataq1.plot(kind='bar', figsize=(15,10))\n",
    "\n",
    "dataq1 = dataf.query('RESULTADO ==\"Positivo SARS-CoV-2\" and ENTIDAD_RES == \"JC\"')\n",
    "\n",
    "fechaSintomas = dataq1.groupby(['FECHA_SINTOMAS']).count()['DIAS_INGRESO_SINTOMAS'].to_frame(name='FECHA_SINTOMAS')\n",
    "fechaIngreso = dataq1.groupby(['FECHA_INGRESO']).count()['DIAS_INGRESO_SINTOMAS'].to_frame(name='FECHA_INGRESO')\n",
    "fechadef = dataq1.groupby(['FECHA_DEF']).count()['DIAS_SINTOMAS_DEF'].to_frame(name='FECHA_DEF')\n",
    "\n",
    "#date_time_str = '20200217'\n",
    "#date_time_obj = datetime.datetime.strptime(date_time_str, '%Y%m%d')\n",
    "\n",
    "dias = (fechaIngreso.iloc[-1,:].name-fechaIngreso.iloc[0,:].name).days + 1\n",
    "\n",
    "fechas_serie = pd.date_range(fechaIngreso.iloc[0,:].name, periods=dias, freq='D')\n",
    "fechas_dataFrame = (fechas_serie.to_frame(name='Fecha'))\n",
    "\n",
    "fechas = fechas_dataFrame.join(fechaIngreso, lsuffix='si', rsuffix='_other')\n",
    "#fechas = fechas.join(fechaIngreso, lsuffix='_caller', rsuffix='_other')\n",
    "#fechas = fechas.join(fechadef, lsuffix='_caller', rsuffix='_other')\n",
    "\n",
    "fechas = fechas.drop(['Fecha'], axis=1)\n",
    "\n",
    "fechas.plot(kind='bar', figsize=(15,10))"
   ]
  },
  {
   "cell_type": "code",
   "execution_count": 82,
   "metadata": {},
   "outputs": [
    {
     "data": {
      "text/plain": [
       "<matplotlib.axes._subplots.AxesSubplot at 0x7f4ab1faa650>"
      ]
     },
     "execution_count": 82,
     "metadata": {},
     "output_type": "execute_result"
    },
    {
     "data": {
      "image/png": "[encoded data removed]",
      "text/plain": [
       "<Figure size 1080x720 with 1 Axes>"
      ]
     },
     "metadata": {
      "needs_background": "light"
     },
     "output_type": "display_data"
    }
   ],
   "source": [
    "#print(dataf.columns)\n",
    "#dataq1 = dataf.query('RESULTADO ==\"Positivo SARS-CoV-2\" and ENTIDAD_UM == \"JC\"')\n",
    "dataq1 = dataf.query('RESULTADO ==\"Positivo SARS-CoV-2\" and ENTIDAD_RES == \"JC\"')\n",
    "\n",
    "fechaSintomas = dataq1.groupby(['FECHA_SINTOMAS']).count()['DIAS_INGRESO_SINTOMAS'].to_frame(name='FECHA_SINTOMAS')\n",
    "fechaIngreso = dataq1.groupby(['FECHA_INGRESO']).count()['DIAS_INGRESO_SINTOMAS'].to_frame(name='FECHA_INGRESO')\n",
    "fechadef = dataq1.groupby(['FECHA_DEF']).count()['DIAS_SINTOMAS_DEF'].to_frame(name='FECHA_DEF')\n",
    "\n",
    "#date_time_str = '20200217'\n",
    "#date_time_obj = datetime.datetime.strptime(date_time_str, '%Y%m%d')\n",
    "\n",
    "dias = (fechaSintomas.iloc[-1,:].name-fechaSintomas.iloc[0,:].name).days + 1\n",
    "\n",
    "fechas_serie = pd.date_range(fechaSintomas.iloc[0,:].name, periods=dias, freq='D')\n",
    "fechas_dataFrame = (fechas_serie.to_frame(name='Fecha'))\n",
    "\n",
    "\n",
    "fechas = fechas_dataFrame.join(fechaSintomas, lsuffix='si', rsuffix='_other')\n",
    "#fechas = fechas.join(fechaIngreso, lsuffix='_caller', rsuffix='_other')\n",
    "#fechas = fechas.join(fechadef, lsuffix='_caller', rsuffix='_other')\n",
    "\n",
    "fechas = fechas.drop(['Fecha'], axis=1)\n",
    "\n",
    "fechas.plot(kind='bar', figsize=(15,10))"
   ]
  },
  {
   "cell_type": "code",
   "execution_count": 83,
   "metadata": {},
   "outputs": [
    {
     "data": {
      "text/plain": [
       "<matplotlib.axes._subplots.AxesSubplot at 0x7f4ab1d2be10>"
      ]
     },
     "execution_count": 83,
     "metadata": {},
     "output_type": "execute_result"
    },
    {
     "data": {
      "image/png": "[encoded data removed]",
      "text/plain": [
       "<Figure size 1080x720 with 1 Axes>"
      ]
     },
     "metadata": {
      "needs_background": "light"
     },
     "output_type": "display_data"
    }
   ],
   "source": [
    "#print(dataf.columns)\n",
    "dataq1 = dataf.query('RESULTADO ==\"Positivo SARS-CoV-2\" and ENTIDAD_RES == \"JC\"')\n",
    "\n",
    "fechaSintomas = dataq1.groupby(['FECHA_SINTOMAS']).count()['DIAS_INGRESO_SINTOMAS'].to_frame(name='FECHA_SINTOMAS')\n",
    "fechaIngreso = dataq1.groupby(['FECHA_INGRESO']).count()['DIAS_INGRESO_SINTOMAS'].to_frame(name='FECHA_INGRESO')\n",
    "fechadef = dataq1.groupby(['FECHA_DEF']).count()['DIAS_SINTOMAS_DEF'].to_frame(name='FECHA_DEF')\n",
    "\n",
    "#date_time_str = '20200217'\n",
    "#date_time_obj = datetime.datetime.strptime(date_time_str, '%Y%m%d')\n",
    "\n",
    "dias = (fechadef.iloc[-1,:].name-fechadef.iloc[0,:].name).days + 2\n",
    "\n",
    "fechas_serie = pd.date_range(fechadef.iloc[0,:].name, periods=dias, freq='D')\n",
    "fechas_dataFrame = (fechas_serie.to_frame(name='Fecha'))\n",
    "\n",
    "\n",
    "fechas = fechas_dataFrame.join(fechadef, lsuffix='si', rsuffix='_other')\n",
    "#fechas = fechas.join(fechaIngreso, lsuffix='_caller', rsuffix='_other')\n",
    "#fechas = fechas.join(fechadef, lsuffix='_caller', rsuffix='_other')\n",
    "\n",
    "fechas = fechas.drop(['Fecha'], axis=1)\n",
    "\n",
    "fechas.plot(kind='bar', figsize=(15,10))"
   ]
  },
  {
   "cell_type": "code",
   "execution_count": 75,
   "metadata": {},
   "outputs": [
    {
     "data": {
      "text/plain": [
       "FECHA_SINTOMAS    508.0\n",
       "FECHA_INGRESO     508.0\n",
       "FECHA_DEF          43.0\n",
       "dtype: float64"
      ]
     },
     "execution_count": 75,
     "metadata": {},
     "output_type": "execute_result"
    }
   ],
   "source": [
    "#ingreso = ingreso.join(defunciones, lsuffix='_ingreso', rsuffix='_defunción')\n",
    "#ingreso.plot(kind='bar', figsize=(15,10))\n",
    "\n",
    "#ingreso.plot(kind='bar', figsize=(15,10))\n",
    "#defunciones.plot(kind='bar', figsize=(15,10))\n",
    "\n",
    "#fechas = fechas_dataFrame.join(fechaSintomas, lsuffix='si', rsuffix='_other')\n",
    "#fechas = fechas.join(fechaIngreso, lsuffix='_caller', rsuffix='_other')\n",
    "#fechas = fechas.join(fechadef, lsuffix='_caller', rsuffix='_other')\n",
    "\n",
    "#fechas = fechas.drop(['Fecha'], axis=1)\n",
    "\n",
    "#fechas.plot(kind='line', figsize=(15,10))\n",
    "\n",
    "#print(dataq1[['ENTIDAD_RES','MUNICIPIO_RES','FECHA_SINTOMAS','FECHA_INGRESO','FECHA_DEF']])\n",
    "#dataq1 = dataq1.groupby(['FECHA_SINTOMAS','ENTIDAD_RES'])['SEXO'].agg(['count']).unstack(1) \n",
    "#dataq1 = dataq1.groupby(['FECHA_SINTOMAS','ENTIDAD_RES'])['SEXO'].agg(['count']).unstack(1) \n",
    "\n",
    "\n",
    "#dataq1 = dataq1[['FECHA_INGRESO','FECHA_SINTOMAS','FECHA_DEF', 'DIAS_INGRESO_SINTOMAS','DIAS_SINTOMAS_DEF']]\n",
    "#dataq1.head()\n",
    "\n",
    "#print(dataq1.head(1))\n",
    "#dataq1.plot(kind='line', figsize=(15,20))\n",
    "\n",
    "#dataq1[['DIAS_INGRESO_SINTOMAS','DIAS_SINTOMAS_DEF']]\n",
    "#dataq1 = dataq1.groupby(['FECHA_SINTOMAS','ENTIDAD_RES'])['SEXO'].agg(['count']).unstack(1)\n",
    "\n",
    "\n",
    "#print(fechaSintomas)\n",
    "#print(type(fechas))\n",
    "\n",
    "#fechasIndex = pd.DatetimeIndex(fechas.values)\n",
    "#df3=df.set_index(fechasIndex)\n",
    "#print(type(df3))\n",
    "\n",
    "#records = df.to_records(index=False)\n",
    "#result = list(records)\n",
    "#print(result)\n",
    "#OUTPUT\n",
    "\n",
    "dataq1 = dataf.query('RESULTADO ==\"Positivo SARS-CoV-2\" and ENTIDAD_RES == \"JC\"')\n",
    "\n",
    "fechas_serie = pd.date_range('20200217', periods=80, freq='D')\n",
    "fechas_dataFrame = (fechas_serie.to_frame(name='Fecha'))\n",
    "\n",
    "fechaSintomas = dataq1.groupby(['FECHA_SINTOMAS']).count()['DIAS_INGRESO_SINTOMAS'].to_frame(name='FECHA_SINTOMAS')\n",
    "fechaIngreso = dataq1.groupby(['FECHA_INGRESO']).count()['DIAS_INGRESO_SINTOMAS'].to_frame(name='FECHA_INGRESO')\n",
    "fechadef = dataq1.groupby(['FECHA_DEF']).count()['DIAS_SINTOMAS_DEF'].to_frame(name='FECHA_DEF')\n",
    "\n",
    "fechas = fechas_dataFrame.join(fechaSintomas, lsuffix='si', rsuffix='_other')\n",
    "fechas = fechas.join(fechaIngreso, lsuffix='_caller', rsuffix='_other')\n",
    "fechas = fechas.join(fechadef, lsuffix='_caller', rsuffix='_other')\n",
    "\n",
    "fechas = fechas.sum()\n",
    "\n",
    "fechas\n",
    "\n",
    "#fechas = fechas.drop(['Fecha'], axis=1)\n",
    "\n",
    "#fechas.plot(kind='bar', figsize=(15,10))"
   ]
  },
  {
   "cell_type": "code",
   "execution_count": 76,
   "metadata": {},
   "outputs": [
    {
     "data": {
      "text/plain": [
       "<matplotlib.axes._subplots.AxesSubplot at 0x7f4ab2994c50>"
      ]
     },
     "execution_count": 76,
     "metadata": {},
     "output_type": "execute_result"
    },
    {
     "data": {
      "image/png": "[encoded data removed]",
      "text/plain": [
       "<Figure size 1080x720 with 1 Axes>"
      ]
     },
     "metadata": {
      "needs_background": "light"
     },
     "output_type": "display_data"
    }
   ],
   "source": [
    "#print(dataf.columns)\n",
    "dataq1 = dataf.query('RESULTADO ==\"Positivo SARS-CoV-2\" and STATUS == \"FALLECIDO\"')\n",
    "\n",
    "#sintomas = dataq1.groupby(['ENTIDAD_RES']).sum()['DIAS_SINTOMAS_DEF'].to_frame(name='FECHA_SINTOMAS')\n",
    "ingreso = dataq1.groupby(['SECTOR'])['DIAS_INGRESO_SINTOMAS'].agg([np.mean]) #.agg([np.sum, pd.Series.count, np.mean, np.std])\n",
    "defunciones = dataq1.groupby(['SECTOR'])['DIAS_SINTOMAS_DEF'].agg([np.mean])\n",
    "\n",
    "ingreso = ingreso.join(defunciones, lsuffix='_ingreso', rsuffix='_defunción')\n",
    "\n",
    "ingreso.plot(kind='bar', figsize=(15,10))"
   ]
  }
 ],
 "metadata": {
  "kernelspec": {
   "display_name": "Python 3",
   "language": "python",
   "name": "python3"
  },
  "language_info": {
   "codemirror_mode": {
    "name": "ipython",
    "version": 3
   },
   "file_extension": ".py",
   "mimetype": "text/x-python",
   "name": "python",
   "nbconvert_exporter": "python",
   "pygments_lexer": "ipython3",
   "version": "3.7.6"
  }
 },
 "nbformat": 4,
 "nbformat_minor": 2
}
