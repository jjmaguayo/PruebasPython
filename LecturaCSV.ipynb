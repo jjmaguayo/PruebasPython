{
 "cells": [
  {
   "cell_type": "code",
   "execution_count": 1,
   "metadata": {},
   "outputs": [],
   "source": [
    "#!conda activate tensorflow\n",
    "import datetime\n",
    "import numpy as np\n",
    "import pandas as pd"
   ]
  },
  {
   "cell_type": "code",
   "execution_count": 2,
   "metadata": {},
   "outputs": [
    {
     "data": {
      "text/html": [
       "<div>\n",
       "<style scoped>\n",
       "    .dataframe tbody tr th:only-of-type {\n",
       "        vertical-align: middle;\n",
       "    }\n",
       "\n",
       "    .dataframe tbody tr th {\n",
       "        vertical-align: top;\n",
       "    }\n",
       "\n",
       "    .dataframe thead th {\n",
       "        text-align: right;\n",
       "    }\n",
       "</style>\n",
       "<table border=\"1\" class=\"dataframe\">\n",
       "  <thead>\n",
       "    <tr style=\"text-align: right;\">\n",
       "      <th></th>\n",
       "      <th>ID_REGISTRO</th>\n",
       "      <th>ORIGEN</th>\n",
       "      <th>SECTOR</th>\n",
       "      <th>ENTIDAD_UM</th>\n",
       "      <th>SEXO</th>\n",
       "      <th>ENTIDAD_NAC</th>\n",
       "      <th>ENTIDAD_RES</th>\n",
       "      <th>MUNICIPIO_RES</th>\n",
       "      <th>TIPO_PACIENTE</th>\n",
       "      <th>FECHA_INGRESO</th>\n",
       "      <th>...</th>\n",
       "      <th>CARDIOVASCULAR</th>\n",
       "      <th>OBESIDAD</th>\n",
       "      <th>RENAL_CRONICA</th>\n",
       "      <th>TABAQUISMO</th>\n",
       "      <th>OTRO_CASO</th>\n",
       "      <th>RESULTADO</th>\n",
       "      <th>MIGRANTE</th>\n",
       "      <th>PAIS_NACIONALIDAD</th>\n",
       "      <th>PAIS_ORIGEN</th>\n",
       "      <th>UCI</th>\n",
       "    </tr>\n",
       "    <tr>\n",
       "      <th>FECHA_ACTUALIZACION</th>\n",
       "      <th></th>\n",
       "      <th></th>\n",
       "      <th></th>\n",
       "      <th></th>\n",
       "      <th></th>\n",
       "      <th></th>\n",
       "      <th></th>\n",
       "      <th></th>\n",
       "      <th></th>\n",
       "      <th></th>\n",
       "      <th></th>\n",
       "      <th></th>\n",
       "      <th></th>\n",
       "      <th></th>\n",
       "      <th></th>\n",
       "      <th></th>\n",
       "      <th></th>\n",
       "      <th></th>\n",
       "      <th></th>\n",
       "      <th></th>\n",
       "      <th></th>\n",
       "    </tr>\n",
       "  </thead>\n",
       "  <tbody>\n",
       "    <tr>\n",
       "      <th>2020-05-05</th>\n",
       "      <td>0e056a</td>\n",
       "      <td>1</td>\n",
       "      <td>4</td>\n",
       "      <td>2</td>\n",
       "      <td>2</td>\n",
       "      <td>2</td>\n",
       "      <td>2</td>\n",
       "      <td>4</td>\n",
       "      <td>1</td>\n",
       "      <td>2020-03-19</td>\n",
       "      <td>...</td>\n",
       "      <td>2</td>\n",
       "      <td>2</td>\n",
       "      <td>2</td>\n",
       "      <td>2</td>\n",
       "      <td>99</td>\n",
       "      <td>1</td>\n",
       "      <td>99</td>\n",
       "      <td>México</td>\n",
       "      <td>99</td>\n",
       "      <td>97</td>\n",
       "    </tr>\n",
       "    <tr>\n",
       "      <th>2020-05-05</th>\n",
       "      <td>108695</td>\n",
       "      <td>1</td>\n",
       "      <td>4</td>\n",
       "      <td>9</td>\n",
       "      <td>2</td>\n",
       "      <td>9</td>\n",
       "      <td>9</td>\n",
       "      <td>15</td>\n",
       "      <td>2</td>\n",
       "      <td>2020-03-23</td>\n",
       "      <td>...</td>\n",
       "      <td>1</td>\n",
       "      <td>1</td>\n",
       "      <td>2</td>\n",
       "      <td>2</td>\n",
       "      <td>99</td>\n",
       "      <td>1</td>\n",
       "      <td>99</td>\n",
       "      <td>México</td>\n",
       "      <td>99</td>\n",
       "      <td>2</td>\n",
       "    </tr>\n",
       "    <tr>\n",
       "      <th>2020-05-05</th>\n",
       "      <td>0342f4</td>\n",
       "      <td>1</td>\n",
       "      <td>12</td>\n",
       "      <td>32</td>\n",
       "      <td>2</td>\n",
       "      <td>31</td>\n",
       "      <td>32</td>\n",
       "      <td>6</td>\n",
       "      <td>2</td>\n",
       "      <td>2020-03-29</td>\n",
       "      <td>...</td>\n",
       "      <td>2</td>\n",
       "      <td>1</td>\n",
       "      <td>2</td>\n",
       "      <td>1</td>\n",
       "      <td>2</td>\n",
       "      <td>2</td>\n",
       "      <td>99</td>\n",
       "      <td>México</td>\n",
       "      <td>99</td>\n",
       "      <td>2</td>\n",
       "    </tr>\n",
       "    <tr>\n",
       "      <th>2020-05-05</th>\n",
       "      <td>0c09bc</td>\n",
       "      <td>1</td>\n",
       "      <td>4</td>\n",
       "      <td>15</td>\n",
       "      <td>2</td>\n",
       "      <td>15</td>\n",
       "      <td>15</td>\n",
       "      <td>58</td>\n",
       "      <td>2</td>\n",
       "      <td>2020-03-29</td>\n",
       "      <td>...</td>\n",
       "      <td>2</td>\n",
       "      <td>2</td>\n",
       "      <td>2</td>\n",
       "      <td>1</td>\n",
       "      <td>99</td>\n",
       "      <td>2</td>\n",
       "      <td>99</td>\n",
       "      <td>México</td>\n",
       "      <td>99</td>\n",
       "      <td>2</td>\n",
       "    </tr>\n",
       "    <tr>\n",
       "      <th>2020-05-05</th>\n",
       "      <td>188377</td>\n",
       "      <td>1</td>\n",
       "      <td>4</td>\n",
       "      <td>9</td>\n",
       "      <td>2</td>\n",
       "      <td>9</td>\n",
       "      <td>9</td>\n",
       "      <td>5</td>\n",
       "      <td>1</td>\n",
       "      <td>2020-03-28</td>\n",
       "      <td>...</td>\n",
       "      <td>2</td>\n",
       "      <td>2</td>\n",
       "      <td>2</td>\n",
       "      <td>2</td>\n",
       "      <td>99</td>\n",
       "      <td>2</td>\n",
       "      <td>99</td>\n",
       "      <td>México</td>\n",
       "      <td>99</td>\n",
       "      <td>97</td>\n",
       "    </tr>\n",
       "    <tr>\n",
       "      <th>2020-05-05</th>\n",
       "      <td>16df35</td>\n",
       "      <td>1</td>\n",
       "      <td>4</td>\n",
       "      <td>29</td>\n",
       "      <td>1</td>\n",
       "      <td>29</td>\n",
       "      <td>29</td>\n",
       "      <td>5</td>\n",
       "      <td>1</td>\n",
       "      <td>2020-03-28</td>\n",
       "      <td>...</td>\n",
       "      <td>2</td>\n",
       "      <td>2</td>\n",
       "      <td>2</td>\n",
       "      <td>1</td>\n",
       "      <td>99</td>\n",
       "      <td>2</td>\n",
       "      <td>99</td>\n",
       "      <td>México</td>\n",
       "      <td>99</td>\n",
       "      <td>97</td>\n",
       "    </tr>\n",
       "    <tr>\n",
       "      <th>2020-05-05</th>\n",
       "      <td>1b720e</td>\n",
       "      <td>1</td>\n",
       "      <td>4</td>\n",
       "      <td>9</td>\n",
       "      <td>1</td>\n",
       "      <td>9</td>\n",
       "      <td>15</td>\n",
       "      <td>58</td>\n",
       "      <td>2</td>\n",
       "      <td>2020-03-28</td>\n",
       "      <td>...</td>\n",
       "      <td>1</td>\n",
       "      <td>2</td>\n",
       "      <td>2</td>\n",
       "      <td>2</td>\n",
       "      <td>99</td>\n",
       "      <td>2</td>\n",
       "      <td>99</td>\n",
       "      <td>México</td>\n",
       "      <td>99</td>\n",
       "      <td>2</td>\n",
       "    </tr>\n",
       "  </tbody>\n",
       "</table>\n",
       "<p>7 rows × 34 columns</p>\n",
       "</div>"
      ],
      "text/plain": [
       "                    ID_REGISTRO  ORIGEN  SECTOR  ENTIDAD_UM  SEXO  \\\n",
       "FECHA_ACTUALIZACION                                                 \n",
       "2020-05-05               0e056a       1       4           2     2   \n",
       "2020-05-05               108695       1       4           9     2   \n",
       "2020-05-05               0342f4       1      12          32     2   \n",
       "2020-05-05               0c09bc       1       4          15     2   \n",
       "2020-05-05               188377       1       4           9     2   \n",
       "2020-05-05               16df35       1       4          29     1   \n",
       "2020-05-05               1b720e       1       4           9     1   \n",
       "\n",
       "                     ENTIDAD_NAC  ENTIDAD_RES  MUNICIPIO_RES  TIPO_PACIENTE  \\\n",
       "FECHA_ACTUALIZACION                                                           \n",
       "2020-05-05                     2            2              4              1   \n",
       "2020-05-05                     9            9             15              2   \n",
       "2020-05-05                    31           32              6              2   \n",
       "2020-05-05                    15           15             58              2   \n",
       "2020-05-05                     9            9              5              1   \n",
       "2020-05-05                    29           29              5              1   \n",
       "2020-05-05                     9           15             58              2   \n",
       "\n",
       "                    FECHA_INGRESO  ... CARDIOVASCULAR OBESIDAD  RENAL_CRONICA  \\\n",
       "FECHA_ACTUALIZACION                ...                                          \n",
       "2020-05-05             2020-03-19  ...              2        2              2   \n",
       "2020-05-05             2020-03-23  ...              1        1              2   \n",
       "2020-05-05             2020-03-29  ...              2        1              2   \n",
       "2020-05-05             2020-03-29  ...              2        2              2   \n",
       "2020-05-05             2020-03-28  ...              2        2              2   \n",
       "2020-05-05             2020-03-28  ...              2        2              2   \n",
       "2020-05-05             2020-03-28  ...              1        2              2   \n",
       "\n",
       "                     TABAQUISMO  OTRO_CASO  RESULTADO  MIGRANTE  \\\n",
       "FECHA_ACTUALIZACION                                               \n",
       "2020-05-05                    2         99          1        99   \n",
       "2020-05-05                    2         99          1        99   \n",
       "2020-05-05                    1          2          2        99   \n",
       "2020-05-05                    1         99          2        99   \n",
       "2020-05-05                    2         99          2        99   \n",
       "2020-05-05                    1         99          2        99   \n",
       "2020-05-05                    2         99          2        99   \n",
       "\n",
       "                     PAIS_NACIONALIDAD  PAIS_ORIGEN  UCI  \n",
       "FECHA_ACTUALIZACION                                       \n",
       "2020-05-05                      México           99   97  \n",
       "2020-05-05                      México           99    2  \n",
       "2020-05-05                      México           99    2  \n",
       "2020-05-05                      México           99    2  \n",
       "2020-05-05                      México           99   97  \n",
       "2020-05-05                      México           99   97  \n",
       "2020-05-05                      México           99    2  \n",
       "\n",
       "[7 rows x 34 columns]"
      ]
     },
     "execution_count": 2,
     "metadata": {},
     "output_type": "execute_result"
    }
   ],
   "source": [
    "data = pd.read_csv(\"Reportes/Nuevos/datos_abiertos_covid19/COVID19_Mexico.csv\", sep=',', index_col=0)\n",
    "data.head(7)"
   ]
  },
  {
   "cell_type": "code",
   "execution_count": 3,
   "metadata": {},
   "outputs": [
    {
     "name": "stdout",
     "output_type": "stream",
     "text": [
      "Index(['ID_REGISTRO', 'ORIGEN', 'SECTOR', 'ENTIDAD_UM', 'SEXO', 'ENTIDAD_NAC',\n",
      "       'ENTIDAD_RES', 'MUNICIPIO_RES', 'TIPO_PACIENTE', 'FECHA_INGRESO',\n",
      "       'FECHA_SINTOMAS', 'FECHA_DEF', 'INTUBADO', 'NEUMONIA', 'EDAD',\n",
      "       'NACIONALIDAD', 'EMBARAZO', 'HABLA_LENGUA_INDIG', 'DIABETES', 'EPOC',\n",
      "       'ASMA', 'INMUSUPR', 'HIPERTENSION', 'OTRA_COM', 'CARDIOVASCULAR',\n",
      "       'OBESIDAD', 'RENAL_CRONICA', 'TABAQUISMO', 'OTRO_CASO', 'RESULTADO',\n",
      "       'MIGRANTE', 'PAIS_NACIONALIDAD', 'PAIS_ORIGEN', 'UCI'],\n",
      "      dtype='object')\n",
      "(105664, 34)\n",
      "105664\n"
     ]
    }
   ],
   "source": [
    "print(data.columns)\n",
    "print(data.shape)\n",
    "registers = data.shape[0]\n",
    "print(registers)"
   ]
  },
  {
   "cell_type": "code",
   "execution_count": 4,
   "metadata": {},
   "outputs": [],
   "source": [
    "data['FECHA_INGRESO'] = pd.to_datetime(data['FECHA_INGRESO'], format='%Y/%m/%d')\n",
    "data['FECHA_SINTOMAS'] = pd.to_datetime(data['FECHA_SINTOMAS'], format='%Y/%m/%d')\n",
    "\n",
    "data['STATUS'] = [\"VIVO\" if value=='9999-99-99' else \"FALLECIDO\" for value in data['FECHA_DEF']]\n",
    "\n",
    "data['FECHA_DEF'] = data['FECHA_DEF'].replace('9999-99-99',np.NaN)\n",
    "data['FECHA_DEF'] = pd.to_datetime(data['FECHA_DEF'], format='%Y/%m/%d')\n",
    "\n",
    "#data['FECHA_DEF'].replace('9999-99-99',np.NaN)\n",
    "#pd.to_datetime(data[\"FECHA_DEF\"], format='%d/%m/%Y')\n",
    "#data.isnull().any()\n",
    "#data['FECHA_DEF'] = data['FECHA_DEF'] == '9999-99-99' ? '' : data['FECHA_DEF']"
   ]
  },
  {
   "cell_type": "code",
   "execution_count": 5,
   "metadata": {},
   "outputs": [],
   "source": [
    "xl_file = pd.ExcelFile(\"Reportes/Nuevos/diccionario_datos_covid19/Catalogos_0412.xlsx\")\n",
    "dfs = {sheet_name: xl_file.parse(sheet_name) \n",
    "          for sheet_name in xl_file.sheet_names}"
   ]
  },
  {
   "cell_type": "code",
   "execution_count": 6,
   "metadata": {},
   "outputs": [],
   "source": [
    "origen = dfs['Catálogo ORIGEN'].set_index('CLAVE').to_dict()['DESCRIPCIÓN']\n",
    "sector = dfs['Catálogo SECTOR'].set_index('CLAVE').to_dict()['DESCRIPCIÓN']\n",
    "sexo = dfs['Catálogo SEXO'].set_index('CLAVE').to_dict()['DESCRIPCIÓN']\n",
    "tipo_paciente = dfs['Catálogo TIPO_PACIENTE'].set_index('CLAVE').to_dict()['DESCRIPCIÓN']\n",
    "si_no = dfs['Catálogo SI_NO'].set_index('CLAVE').to_dict()['DESCRIPCIÓN']\n",
    "nacionalidad = dfs['Catálogo NACIONALIDAD'].set_index('CLAVE').to_dict()['DESCRIPCIÓN']\n",
    "resultado = dfs['Catálogo RESULTADO'][1:].set_index('Unnamed: 0').to_dict()['Unnamed: 1']\n",
    "entidades = dfs['Catálogo de ENTIDADES'].set_index('CLAVE_ENTIDAD')['ABREVIATURA']\n",
    "municipios = dfs['Catálogo MUNICIPIOS'].set_index(['CLAVE_ENTIDAD','CLAVE_MUNICIPIO']).to_dict()['MUNICIPIO']"
   ]
  },
  {
   "cell_type": "code",
   "execution_count": 7,
   "metadata": {},
   "outputs": [],
   "source": [
    "#result = list(data[['ENTIDAD_RES','MUNICIPIO_RES']].to_records(index=False))\n",
    "\n",
    "def replace_touple(df, col, dicc, colOut):\n",
    "    salida = []\n",
    "    salida = list()\n",
    "    for key1, key2 in df[col]:\n",
    "        if (key1,key2) in dicc:\n",
    "            salida.append(dicc[(key1,key2)])\n",
    "        else:\n",
    "            salida.append(np.NaN)\n",
    "       \n",
    "    df[colOut] = salida\n",
    "\n",
    "#tmp = [v in municipios for v in dataf['ENTIDAD_MUNICIPIO_RES']] \n",
    "#dataf.loc[tmp]\n",
    "\n",
    "#dataf['ENTIDAD_MUNICIPIO_RES'].mask(dataf['ENTIDAD_MUNICIPIO_RES'] == (15,37), (1,1)), inplace=True)"
   ]
  },
  {
   "cell_type": "code",
   "execution_count": 8,
   "metadata": {
    "scrolled": true
   },
   "outputs": [
    {
     "data": {
      "text/html": [
       "<div>\n",
       "<style scoped>\n",
       "    .dataframe tbody tr th:only-of-type {\n",
       "        vertical-align: middle;\n",
       "    }\n",
       "\n",
       "    .dataframe tbody tr th {\n",
       "        vertical-align: top;\n",
       "    }\n",
       "\n",
       "    .dataframe thead th {\n",
       "        text-align: right;\n",
       "    }\n",
       "</style>\n",
       "<table border=\"1\" class=\"dataframe\">\n",
       "  <thead>\n",
       "    <tr style=\"text-align: right;\">\n",
       "      <th></th>\n",
       "      <th>ID_REGISTRO</th>\n",
       "      <th>ORIGEN</th>\n",
       "      <th>SECTOR</th>\n",
       "      <th>ENTIDAD_UM</th>\n",
       "      <th>SEXO</th>\n",
       "      <th>ENTIDAD_NAC</th>\n",
       "      <th>ENTIDAD_RES</th>\n",
       "      <th>MUNICIPIO_RES</th>\n",
       "      <th>TIPO_PACIENTE</th>\n",
       "      <th>FECHA_INGRESO</th>\n",
       "      <th>...</th>\n",
       "      <th>OTRO_CASO</th>\n",
       "      <th>RESULTADO</th>\n",
       "      <th>MIGRANTE</th>\n",
       "      <th>PAIS_NACIONALIDAD</th>\n",
       "      <th>PAIS_ORIGEN</th>\n",
       "      <th>UCI</th>\n",
       "      <th>STATUS</th>\n",
       "      <th>ENTIDAD_MUNICIPIO_RES</th>\n",
       "      <th>DIAS_INGRESO_SINTOMAS</th>\n",
       "      <th>DIAS_SINTOMAS_DEF</th>\n",
       "    </tr>\n",
       "    <tr>\n",
       "      <th>FECHA_ACTUALIZACION</th>\n",
       "      <th></th>\n",
       "      <th></th>\n",
       "      <th></th>\n",
       "      <th></th>\n",
       "      <th></th>\n",
       "      <th></th>\n",
       "      <th></th>\n",
       "      <th></th>\n",
       "      <th></th>\n",
       "      <th></th>\n",
       "      <th></th>\n",
       "      <th></th>\n",
       "      <th></th>\n",
       "      <th></th>\n",
       "      <th></th>\n",
       "      <th></th>\n",
       "      <th></th>\n",
       "      <th></th>\n",
       "      <th></th>\n",
       "      <th></th>\n",
       "      <th></th>\n",
       "    </tr>\n",
       "  </thead>\n",
       "  <tbody>\n",
       "    <tr>\n",
       "      <th>2020-05-05</th>\n",
       "      <td>0e056a</td>\n",
       "      <td>USMER</td>\n",
       "      <td>IMSS</td>\n",
       "      <td>BC</td>\n",
       "      <td>HOMBRE</td>\n",
       "      <td>BC</td>\n",
       "      <td>BC</td>\n",
       "      <td>TIJUANA</td>\n",
       "      <td>AMBULATORIO</td>\n",
       "      <td>2020-03-19</td>\n",
       "      <td>...</td>\n",
       "      <td>NO ESPECIFICADO</td>\n",
       "      <td>Positivo SARS-CoV-2</td>\n",
       "      <td>NO ESPECIFICADO</td>\n",
       "      <td>México</td>\n",
       "      <td>99</td>\n",
       "      <td>NO APLICA</td>\n",
       "      <td>VIVO</td>\n",
       "      <td>(2, 4)</td>\n",
       "      <td>1</td>\n",
       "      <td>NaN</td>\n",
       "    </tr>\n",
       "    <tr>\n",
       "      <th>2020-05-05</th>\n",
       "      <td>108695</td>\n",
       "      <td>USMER</td>\n",
       "      <td>IMSS</td>\n",
       "      <td>DF</td>\n",
       "      <td>HOMBRE</td>\n",
       "      <td>DF</td>\n",
       "      <td>DF</td>\n",
       "      <td>CUAUHTÉMOC</td>\n",
       "      <td>HOSPITALIZADO</td>\n",
       "      <td>2020-03-23</td>\n",
       "      <td>...</td>\n",
       "      <td>NO ESPECIFICADO</td>\n",
       "      <td>Positivo SARS-CoV-2</td>\n",
       "      <td>NO ESPECIFICADO</td>\n",
       "      <td>México</td>\n",
       "      <td>99</td>\n",
       "      <td>NO</td>\n",
       "      <td>FALLECIDO</td>\n",
       "      <td>(9, 15)</td>\n",
       "      <td>0</td>\n",
       "      <td>19.0</td>\n",
       "    </tr>\n",
       "    <tr>\n",
       "      <th>2020-05-05</th>\n",
       "      <td>0342f4</td>\n",
       "      <td>USMER</td>\n",
       "      <td>SSA</td>\n",
       "      <td>ZS</td>\n",
       "      <td>HOMBRE</td>\n",
       "      <td>YN</td>\n",
       "      <td>ZS</td>\n",
       "      <td>CAÑITAS DE FELIPE PESCADOR</td>\n",
       "      <td>HOSPITALIZADO</td>\n",
       "      <td>2020-03-29</td>\n",
       "      <td>...</td>\n",
       "      <td>NO</td>\n",
       "      <td>No positivo SARS-CoV-2</td>\n",
       "      <td>NO ESPECIFICADO</td>\n",
       "      <td>México</td>\n",
       "      <td>99</td>\n",
       "      <td>NO</td>\n",
       "      <td>FALLECIDO</td>\n",
       "      <td>(32, 6)</td>\n",
       "      <td>1</td>\n",
       "      <td>2.0</td>\n",
       "    </tr>\n",
       "    <tr>\n",
       "      <th>2020-05-05</th>\n",
       "      <td>0c09bc</td>\n",
       "      <td>USMER</td>\n",
       "      <td>IMSS</td>\n",
       "      <td>MC</td>\n",
       "      <td>HOMBRE</td>\n",
       "      <td>MC</td>\n",
       "      <td>MC</td>\n",
       "      <td>NEZAHUALCÓYOTL</td>\n",
       "      <td>HOSPITALIZADO</td>\n",
       "      <td>2020-03-29</td>\n",
       "      <td>...</td>\n",
       "      <td>NO ESPECIFICADO</td>\n",
       "      <td>No positivo SARS-CoV-2</td>\n",
       "      <td>NO ESPECIFICADO</td>\n",
       "      <td>México</td>\n",
       "      <td>99</td>\n",
       "      <td>NO</td>\n",
       "      <td>VIVO</td>\n",
       "      <td>(15, 58)</td>\n",
       "      <td>0</td>\n",
       "      <td>NaN</td>\n",
       "    </tr>\n",
       "    <tr>\n",
       "      <th>2020-05-05</th>\n",
       "      <td>188377</td>\n",
       "      <td>USMER</td>\n",
       "      <td>IMSS</td>\n",
       "      <td>DF</td>\n",
       "      <td>HOMBRE</td>\n",
       "      <td>DF</td>\n",
       "      <td>DF</td>\n",
       "      <td>GUSTAVO A. MADERO</td>\n",
       "      <td>AMBULATORIO</td>\n",
       "      <td>2020-03-28</td>\n",
       "      <td>...</td>\n",
       "      <td>NO ESPECIFICADO</td>\n",
       "      <td>No positivo SARS-CoV-2</td>\n",
       "      <td>NO ESPECIFICADO</td>\n",
       "      <td>México</td>\n",
       "      <td>99</td>\n",
       "      <td>NO APLICA</td>\n",
       "      <td>VIVO</td>\n",
       "      <td>(9, 5)</td>\n",
       "      <td>2</td>\n",
       "      <td>NaN</td>\n",
       "    </tr>\n",
       "  </tbody>\n",
       "</table>\n",
       "<p>5 rows × 38 columns</p>\n",
       "</div>"
      ],
      "text/plain": [
       "                    ID_REGISTRO ORIGEN SECTOR ENTIDAD_UM    SEXO ENTIDAD_NAC  \\\n",
       "FECHA_ACTUALIZACION                                                            \n",
       "2020-05-05               0e056a  USMER   IMSS         BC  HOMBRE          BC   \n",
       "2020-05-05               108695  USMER   IMSS         DF  HOMBRE          DF   \n",
       "2020-05-05               0342f4  USMER    SSA         ZS  HOMBRE          YN   \n",
       "2020-05-05               0c09bc  USMER   IMSS         MC  HOMBRE          MC   \n",
       "2020-05-05               188377  USMER   IMSS         DF  HOMBRE          DF   \n",
       "\n",
       "                    ENTIDAD_RES               MUNICIPIO_RES  TIPO_PACIENTE  \\\n",
       "FECHA_ACTUALIZACION                                                          \n",
       "2020-05-05                   BC                     TIJUANA    AMBULATORIO   \n",
       "2020-05-05                   DF                  CUAUHTÉMOC  HOSPITALIZADO   \n",
       "2020-05-05                   ZS  CAÑITAS DE FELIPE PESCADOR  HOSPITALIZADO   \n",
       "2020-05-05                   MC              NEZAHUALCÓYOTL  HOSPITALIZADO   \n",
       "2020-05-05                   DF           GUSTAVO A. MADERO    AMBULATORIO   \n",
       "\n",
       "                    FECHA_INGRESO  ...        OTRO_CASO  \\\n",
       "FECHA_ACTUALIZACION                ...                    \n",
       "2020-05-05             2020-03-19  ...  NO ESPECIFICADO   \n",
       "2020-05-05             2020-03-23  ...  NO ESPECIFICADO   \n",
       "2020-05-05             2020-03-29  ...              NO    \n",
       "2020-05-05             2020-03-29  ...  NO ESPECIFICADO   \n",
       "2020-05-05             2020-03-28  ...  NO ESPECIFICADO   \n",
       "\n",
       "                                  RESULTADO         MIGRANTE  \\\n",
       "FECHA_ACTUALIZACION                                            \n",
       "2020-05-05              Positivo SARS-CoV-2  NO ESPECIFICADO   \n",
       "2020-05-05              Positivo SARS-CoV-2  NO ESPECIFICADO   \n",
       "2020-05-05           No positivo SARS-CoV-2  NO ESPECIFICADO   \n",
       "2020-05-05           No positivo SARS-CoV-2  NO ESPECIFICADO   \n",
       "2020-05-05           No positivo SARS-CoV-2  NO ESPECIFICADO   \n",
       "\n",
       "                    PAIS_NACIONALIDAD  PAIS_ORIGEN        UCI     STATUS  \\\n",
       "FECHA_ACTUALIZACION                                                        \n",
       "2020-05-05                     México           99  NO APLICA       VIVO   \n",
       "2020-05-05                     México           99        NO   FALLECIDO   \n",
       "2020-05-05                     México           99        NO   FALLECIDO   \n",
       "2020-05-05                     México           99        NO        VIVO   \n",
       "2020-05-05                     México           99  NO APLICA       VIVO   \n",
       "\n",
       "                     ENTIDAD_MUNICIPIO_RES DIAS_INGRESO_SINTOMAS  \\\n",
       "FECHA_ACTUALIZACION                                                \n",
       "2020-05-05                          (2, 4)                     1   \n",
       "2020-05-05                         (9, 15)                     0   \n",
       "2020-05-05                         (32, 6)                     1   \n",
       "2020-05-05                        (15, 58)                     0   \n",
       "2020-05-05                          (9, 5)                     2   \n",
       "\n",
       "                    DIAS_SINTOMAS_DEF  \n",
       "FECHA_ACTUALIZACION                    \n",
       "2020-05-05                        NaN  \n",
       "2020-05-05                       19.0  \n",
       "2020-05-05                        2.0  \n",
       "2020-05-05                        NaN  \n",
       "2020-05-05                        NaN  \n",
       "\n",
       "[5 rows x 38 columns]"
      ]
     },
     "execution_count": 8,
     "metadata": {},
     "output_type": "execute_result"
    }
   ],
   "source": [
    "dataf = data.copy()\n",
    "dataf['ENTIDAD_MUNICIPIO_RES'] = list(zip(dataf['ENTIDAD_RES'], dataf['MUNICIPIO_RES']))\n",
    "replace_touple(dataf, 'ENTIDAD_MUNICIPIO_RES', municipios, 'MUNICIPIO_RES')\n",
    "\n",
    "dataf = dataf.replace({'ORIGEN': origen})\n",
    "dataf = dataf.replace({'SECTOR': sector})\n",
    "dataf = dataf.replace({'ENTIDAD_UM': entidades})\n",
    "dataf = dataf.replace({'SEXO': sexo})\n",
    "dataf = dataf.replace({'ENTIDAD_NAC': entidades})\n",
    "dataf = dataf.replace({'ENTIDAD_RES': entidades})\n",
    "dataf = dataf.replace({'TIPO_PACIENTE': tipo_paciente})\n",
    "dataf = dataf.replace({'INTUBADO': si_no})\n",
    "dataf = dataf.replace({'NEUMONIA': si_no})\n",
    "dataf = dataf.replace({'NACIONALIDAD': nacionalidad})\n",
    "dataf = dataf.replace({'EMBARAZO': si_no})\n",
    "dataf = dataf.replace({'HABLA_LENGUA_INDI': si_no})\n",
    "dataf = dataf.replace({'DIABETES': si_no})\n",
    "dataf = dataf.replace({'EPOC': si_no})\n",
    "dataf = dataf.replace({'ASMA': si_no})\n",
    "dataf = dataf.replace({'INMUSUPR': si_no})\n",
    "dataf = dataf.replace({'HIPERTENSION': si_no})\n",
    "dataf = dataf.replace({'OTRA_CON': si_no})\n",
    "dataf = dataf.replace({'CARDIOVASCULAR': si_no})\n",
    "dataf = dataf.replace({'OBESIDAD': si_no})\n",
    "dataf = dataf.replace({'RENAL_CRONICA': si_no})\n",
    "dataf = dataf.replace({'TABAQUISMO': si_no})\n",
    "dataf = dataf.replace({'OTRO_CASO': si_no})\n",
    "dataf = dataf.replace({'RESULTADO': resultado})\n",
    "dataf = dataf.replace({'MIGRANTE': si_no})\n",
    "#dataf = dataf.replace({'PAIS_NACIONALIDAD': origen})\n",
    "#dataf = dataf.replace({'PAIS_ORIGEN': origen})\n",
    "dataf = dataf.replace({'UCI': si_no})\n",
    "\n",
    "dataf['DIAS_INGRESO_SINTOMAS'] = (dataf['FECHA_INGRESO'] - dataf['FECHA_SINTOMAS']).dt.days\n",
    "dataf['DIAS_SINTOMAS_DEF'] = (dataf['FECHA_DEF'] - dataf['FECHA_SINTOMAS']).dt.days\n",
    "\n",
    "dataf.head()"
   ]
  },
  {
   "cell_type": "code",
   "execution_count": 9,
   "metadata": {
    "scrolled": true
   },
   "outputs": [
    {
     "data": {
      "text/plain": [
       "<matplotlib.axes._subplots.AxesSubplot at 0x7fec26b63690>"
      ]
     },
     "execution_count": 9,
     "metadata": {},
     "output_type": "execute_result"
    },
    {
     "data": {
      "image/png": "[encoded data removed]",
      "text/plain": [
       "<Figure size 1080x720 with 1 Axes>"
      ]
     },
     "metadata": {
      "needs_background": "light"
     },
     "output_type": "display_data"
    }
   ],
   "source": [
    "#print(dataf.columns)\n",
    "dataq1 = dataf.query('RESULTADO ==\"Positivo SARS-CoV-2\"')\n",
    "\n",
    "fechas_serie = pd.date_range('20200217', periods=78, freq='D')\n",
    "fechas_dataFrame = (fechas_serie.to_frame(name='Fecha'))\n",
    "\n",
    "fechaSintomas = dataq1.groupby(['FECHA_SINTOMAS']).count()['DIAS_INGRESO_SINTOMAS'].to_frame(name='FECHA_SINTOMAS')\n",
    "fechaIngreso = dataq1.groupby(['FECHA_INGRESO']).count()['DIAS_INGRESO_SINTOMAS'].to_frame(name='FECHA_INGRESO')\n",
    "fechadef = dataq1.groupby(['FECHA_DEF']).count()['DIAS_SINTOMAS_DEF'].to_frame(name='FECHA_DEF')\n",
    "\n",
    "fechas = fechas_dataFrame.join(fechaSintomas, lsuffix='si', rsuffix='_other')\n",
    "fechas = fechas.join(fechaIngreso, lsuffix='_caller', rsuffix='_other')\n",
    "fechas = fechas.join(fechadef, lsuffix='_caller', rsuffix='_other')\n",
    "\n",
    "fechas = fechas.drop(['Fecha'], axis=1)\n",
    "\n",
    "fechas.plot(kind='bar', figsize=(15,10))"
   ]
  },
  {
   "cell_type": "code",
   "execution_count": 10,
   "metadata": {},
   "outputs": [
    {
     "data": {
      "text/plain": [
       "<matplotlib.axes._subplots.AxesSubplot at 0x7fec266f65d0>"
      ]
     },
     "execution_count": 10,
     "metadata": {},
     "output_type": "execute_result"
    },
    {
     "data": {
      "image/png": "[encoded data removed]",
      "text/plain": [
       "<Figure size 1080x720 with 1 Axes>"
      ]
     },
     "metadata": {
      "needs_background": "light"
     },
     "output_type": "display_data"
    }
   ],
   "source": [
    "#print(dataf.columns)\n",
    "dataq1 = dataf.query('RESULTADO ==\"Positivo SARS-CoV-2\"')\n",
    "\n",
    "#sintomas = dataq1.groupby(['ENTIDAD_RES']).sum()['DIAS_SINTOMAS_DEF'].to_frame(name='FECHA_SINTOMAS')\n",
    "ingreso = dataq1.groupby(['ENTIDAD_RES'])['DIAS_INGRESO_SINTOMAS'].agg([np.mean]) #.agg([np.sum, pd.Series.count, np.mean, np.std])\n",
    "defunciones = dataq1.groupby(['ENTIDAD_RES'])['DIAS_SINTOMAS_DEF'].agg([np.mean])\n",
    "\n",
    "ingreso = ingreso.join(defunciones, lsuffix='_ingreso', rsuffix='_defunción')\n",
    "\n",
    "ingreso.plot(kind='bar', figsize=(15,10))"
   ]
  },
  {
   "cell_type": "code",
   "execution_count": 11,
   "metadata": {},
   "outputs": [
    {
     "data": {
      "text/plain": [
       "<matplotlib.axes._subplots.AxesSubplot at 0x7fec26657410>"
      ]
     },
     "execution_count": 11,
     "metadata": {},
     "output_type": "execute_result"
    },
    {
     "data": {
      "image/png": "[encoded data removed]",
      "text/plain": [
       "<Figure size 1080x720 with 1 Axes>"
      ]
     },
     "metadata": {
      "needs_background": "light"
     },
     "output_type": "display_data"
    }
   ],
   "source": [
    "#print(dataf.columns)\n",
    "dataq1 = dataf.query('RESULTADO ==\"Positivo SARS-CoV-2\"')\n",
    "\n",
    "sintomas = dataq1.groupby(['ENTIDAD_RES'])['FECHA_INGRESO'].agg(['count'])\n",
    "ingreso = dataq1.groupby(['ENTIDAD_RES'])['FECHA_SINTOMAS'].agg(['count']) #.agg([np.sum, pd.Series.count, np.mean, np.std])\n",
    "defunciones = dataq1.groupby(['ENTIDAD_RES'])['FECHA_DEF'].agg(['count'])\n",
    "\n",
    "#sintomas = sintomas.join(ingreso, lsuffix='_ingreso', rsuffix='_sintomas')\n",
    "ingreso = ingreso.join(defunciones, lsuffix='_ingreso', rsuffix='_defunciones')\n",
    "\n",
    "ingreso.plot(kind='bar', figsize=(15,10))"
   ]
  },
  {
   "cell_type": "code",
   "execution_count": 12,
   "metadata": {},
   "outputs": [
    {
     "name": "stdout",
     "output_type": "stream",
     "text": [
      "                                count              \n",
      "TIPO_PACIENTE             AMBULATORIO HOSPITALIZADO\n",
      "SECTOR          STATUS                             \n",
      "CRUZ ROJA       FALLECIDO         1.0           NaN\n",
      "ESTATAL         FALLECIDO         6.0          61.0\n",
      "IMSS            FALLECIDO        59.0         932.0\n",
      "ISSSTE          FALLECIDO        12.0         171.0\n",
      "NO ESPECIFICADO FALLECIDO         2.0           7.0\n",
      "PEMEX           FALLECIDO         4.0          39.0\n",
      "PRIVADA         FALLECIDO         8.0          40.0\n",
      "SEMAR           FALLECIDO         2.0           1.0\n",
      "SSA             FALLECIDO       145.0        1004.0\n",
      "UNIVERSITARIO   FALLECIDO         NaN          13.0\n"
     ]
    },
    {
     "data": {
      "text/plain": [
       "<matplotlib.axes._subplots.AxesSubplot at 0x7fec263b1450>"
      ]
     },
     "execution_count": 12,
     "metadata": {},
     "output_type": "execute_result"
    },
    {
     "data": {
      "image/png": "[encoded data removed]",
      "text/plain": [
       "<Figure size 1080x720 with 1 Axes>"
      ]
     },
     "metadata": {
      "needs_background": "light"
     },
     "output_type": "display_data"
    }
   ],
   "source": [
    "#print(dataf.columns)\n",
    "#dataq1 = dataf.query('RESULTADO ==\"Positivo SARS-CoV-2\" and ENTIDAD_UM == \"JC\" and STATUS == \"FALLECIDO\"')\n",
    "dataq1 = dataf.query('RESULTADO ==\"Positivo SARS-CoV-2\" and STATUS == \"FALLECIDO\"')\n",
    "#dataq1 = dataf.query('RESULTADO ==\"Positivo SARS-CoV-2\"')\n",
    "dataq1 = dataq1[['SECTOR','ENTIDAD_UM','TIPO_PACIENTE','FECHA_INGRESO','FECHA_SINTOMAS','FECHA_DEF','STATUS']]\n",
    "\n",
    "#dataq1 = dataq1.groupby(['ENTIDAD_RES','SECTOR'])['DIAS_INGRESO_SINTOMAS'].agg(['count']).unstack(1)\n",
    "\n",
    "dataq1 = dataq1.groupby(['SECTOR','TIPO_PACIENTE','STATUS'])['ENTIDAD_UM'].agg(['count']).unstack(1)\n",
    "\n",
    "\n",
    "print(dataq1)\n",
    "\n",
    "dataq1.plot(kind='bar', figsize=(15,10))"
   ]
  },
  {
   "cell_type": "code",
   "execution_count": 58,
   "metadata": {},
   "outputs": [
    {
     "data": {
      "text/plain": [
       "<matplotlib.axes._subplots.AxesSubplot at 0x7fec1ca130d0>"
      ]
     },
     "execution_count": 58,
     "metadata": {},
     "output_type": "execute_result"
    },
    {
     "data": {
      "image/png": "[encoded data removed]",
      "text/plain": [
       "<Figure size 1080x720 with 1 Axes>"
      ]
     },
     "metadata": {
      "needs_background": "light"
     },
     "output_type": "display_data"
    }
   ],
   "source": [
    "#print(dataf.columns)\n",
    "#dataq1 = dataf.query('RESULTADO ==\"Positivo SARS-CoV-2\"')\n",
    "#dataq1 = dataq1[['SECTOR','ENTIDAD_UM','TIPO_PACIENTE','FECHA_INGRESO','FECHA_SINTOMAS','FECHA_DEF','STATUS']]\n",
    "\n",
    "#dataq1 = dataq1.groupby(['ENTIDAD_RES','SECTOR'])['DIAS_INGRESO_SINTOMAS'].agg(['count']).unstack(1)\n",
    "\n",
    "#dataq1 = dataq1.groupby(['FECHA_INGRESO'])['ENTIDAD_UM'].agg(['count']).unstack(1)\n",
    "\n",
    "#print(dataq1.head())\n",
    "\n",
    "#dataq1.plot(kind='bar', figsize=(15,10))\n",
    "\n",
    "dataq1 = dataf.query('RESULTADO ==\"Positivo SARS-CoV-2\" and ENTIDAD_UM == \"JC\"')\n",
    "\n",
    "fechaSintomas = dataq1.groupby(['FECHA_SINTOMAS']).count()['DIAS_INGRESO_SINTOMAS'].to_frame(name='FECHA_SINTOMAS')\n",
    "fechaIngreso = dataq1.groupby(['FECHA_INGRESO']).count()['DIAS_INGRESO_SINTOMAS'].to_frame(name='FECHA_INGRESO')\n",
    "fechadef = dataq1.groupby(['FECHA_DEF']).count()['DIAS_SINTOMAS_DEF'].to_frame(name='FECHA_DEF')\n",
    "\n",
    "date_time_str = '20200217'\n",
    "date_time_obj = datetime.datetime.strptime(date_time_str, '%Y%m%d')\n",
    "\n",
    "dias = (fechaIngreso.iloc[-1,:].name-date_time_obj).days + 2\n",
    "\n",
    "fechas_serie = pd.date_range(date_time_str, periods=dias, freq='D')\n",
    "fechas_dataFrame = (fechas_serie.to_frame(name='Fecha'))\n",
    "\n",
    "fechas = fechas_dataFrame.join(fechaIngreso, lsuffix='si', rsuffix='_other')\n",
    "##fechas = fechas.join(fechaIngreso, lsuffix='_caller', rsuffix='_other')\n",
    "##fechas = fechas.join(fechadef, lsuffix='_caller', rsuffix='_other')\n",
    "\n",
    "fechas = fechas.drop(['Fecha'], axis=1)\n",
    "\n",
    "fechas.plot(kind='bar', figsize=(15,10))"
   ]
  },
  {
   "cell_type": "code",
   "execution_count": 59,
   "metadata": {},
   "outputs": [
    {
     "data": {
      "text/plain": [
       "<matplotlib.axes._subplots.AxesSubplot at 0x7fec1c815b50>"
      ]
     },
     "execution_count": 59,
     "metadata": {},
     "output_type": "execute_result"
    },
    {
     "data": {
      "image/png": "[encoded data removed]",
      "text/plain": [
       "<Figure size 1080x720 with 1 Axes>"
      ]
     },
     "metadata": {
      "needs_background": "light"
     },
     "output_type": "display_data"
    }
   ],
   "source": [
    "#print(dataf.columns)\n",
    "#dataq1 = dataf.query('RESULTADO ==\"Positivo SARS-CoV-2\" and ENTIDAD_UM == \"JC\"')\n",
    "dataq1 = dataf.query('RESULTADO ==\"Positivo SARS-CoV-2\" and ENTIDAD_UM == \"JC\"')\n",
    "\n",
    "fechaSintomas = dataq1.groupby(['FECHA_SINTOMAS']).count()['DIAS_INGRESO_SINTOMAS'].to_frame(name='FECHA_SINTOMAS')\n",
    "fechaIngreso = dataq1.groupby(['FECHA_INGRESO']).count()['DIAS_INGRESO_SINTOMAS'].to_frame(name='FECHA_INGRESO')\n",
    "fechadef = dataq1.groupby(['FECHA_DEF']).count()['DIAS_SINTOMAS_DEF'].to_frame(name='FECHA_DEF')\n",
    "\n",
    "date_time_str = '20200217'\n",
    "date_time_obj = datetime.datetime.strptime(date_time_str, '%Y%m%d')\n",
    "\n",
    "dias = (fechaSintomas.iloc[-1,:].name-date_time_obj).days + 2\n",
    "\n",
    "fechas_serie = pd.date_range(date_time_str, periods=dias, freq='D')\n",
    "fechas_dataFrame = (fechas_serie.to_frame(name='Fecha'))\n",
    "\n",
    "\n",
    "fechas = fechas_dataFrame.join(fechaSintomas, lsuffix='si', rsuffix='_other')\n",
    "#fechas = fechas.join(fechaIngreso, lsuffix='_caller', rsuffix='_other')\n",
    "#fechas = fechas.join(fechadef, lsuffix='_caller', rsuffix='_other')\n",
    "\n",
    "fechas = fechas.drop(['Fecha'], axis=1)\n",
    "\n",
    "fechas.plot(kind='bar', figsize=(15,10))"
   ]
  },
  {
   "cell_type": "code",
   "execution_count": 60,
   "metadata": {},
   "outputs": [
    {
     "data": {
      "text/plain": [
       "<matplotlib.axes._subplots.AxesSubplot at 0x7fec1c5c3cd0>"
      ]
     },
     "execution_count": 60,
     "metadata": {},
     "output_type": "execute_result"
    },
    {
     "data": {
      "image/png": "[encoded data removed]",
      "text/plain": [
       "<Figure size 1080x720 with 1 Axes>"
      ]
     },
     "metadata": {
      "needs_background": "light"
     },
     "output_type": "display_data"
    }
   ],
   "source": [
    "#print(dataf.columns)\n",
    "dataq1 = dataf.query('RESULTADO ==\"Positivo SARS-CoV-2\" and ENTIDAD_UM == \"JC\"')\n",
    "\n",
    "fechaSintomas = dataq1.groupby(['FECHA_SINTOMAS']).count()['DIAS_INGRESO_SINTOMAS'].to_frame(name='FECHA_SINTOMAS')\n",
    "fechaIngreso = dataq1.groupby(['FECHA_INGRESO']).count()['DIAS_INGRESO_SINTOMAS'].to_frame(name='FECHA_INGRESO')\n",
    "fechadef = dataq1.groupby(['FECHA_DEF']).count()['DIAS_SINTOMAS_DEF'].to_frame(name='FECHA_DEF')\n",
    "\n",
    "date_time_str = '20200217'\n",
    "date_time_obj = datetime.datetime.strptime(date_time_str, '%Y%m%d')\n",
    "\n",
    "dias = (fechadef.iloc[-1,:].name-date_time_obj).days + 2\n",
    "\n",
    "fechas_serie = pd.date_range(date_time_str, periods=dias, freq='D')\n",
    "fechas_dataFrame = (fechas_serie.to_frame(name='Fecha'))\n",
    "\n",
    "\n",
    "fechas = fechas_dataFrame.join(fechadef, lsuffix='si', rsuffix='_other')\n",
    "#fechas = fechas.join(fechaIngreso, lsuffix='_caller', rsuffix='_other')\n",
    "#fechas = fechas.join(fechadef, lsuffix='_caller', rsuffix='_other')\n",
    "\n",
    "fechas = fechas.drop(['Fecha'], axis=1)\n",
    "\n",
    "fechas.plot(kind='bar', figsize=(15,10))"
   ]
  },
  {
   "cell_type": "code",
   "execution_count": 61,
   "metadata": {},
   "outputs": [
    {
     "data": {
      "text/plain": [
       "FECHA_SINTOMAS    471.0\n",
       "FECHA_INGRESO     472.0\n",
       "FECHA_DEF          35.0\n",
       "dtype: float64"
      ]
     },
     "execution_count": 61,
     "metadata": {},
     "output_type": "execute_result"
    }
   ],
   "source": [
    "#ingreso = ingreso.join(defunciones, lsuffix='_ingreso', rsuffix='_defunción')\n",
    "#ingreso.plot(kind='bar', figsize=(15,10))\n",
    "\n",
    "#ingreso.plot(kind='bar', figsize=(15,10))\n",
    "#defunciones.plot(kind='bar', figsize=(15,10))\n",
    "\n",
    "#fechas = fechas_dataFrame.join(fechaSintomas, lsuffix='si', rsuffix='_other')\n",
    "#fechas = fechas.join(fechaIngreso, lsuffix='_caller', rsuffix='_other')\n",
    "#fechas = fechas.join(fechadef, lsuffix='_caller', rsuffix='_other')\n",
    "\n",
    "#fechas = fechas.drop(['Fecha'], axis=1)\n",
    "\n",
    "#fechas.plot(kind='line', figsize=(15,10))\n",
    "\n",
    "#print(dataq1[['ENTIDAD_RES','MUNICIPIO_RES','FECHA_SINTOMAS','FECHA_INGRESO','FECHA_DEF']])\n",
    "#dataq1 = dataq1.groupby(['FECHA_SINTOMAS','ENTIDAD_RES'])['SEXO'].agg(['count']).unstack(1) \n",
    "#dataq1 = dataq1.groupby(['FECHA_SINTOMAS','ENTIDAD_RES'])['SEXO'].agg(['count']).unstack(1) \n",
    "\n",
    "\n",
    "#dataq1 = dataq1[['FECHA_INGRESO','FECHA_SINTOMAS','FECHA_DEF', 'DIAS_INGRESO_SINTOMAS','DIAS_SINTOMAS_DEF']]\n",
    "#dataq1.head()\n",
    "\n",
    "#print(dataq1.head(1))\n",
    "#dataq1.plot(kind='line', figsize=(15,20))\n",
    "\n",
    "#dataq1[['DIAS_INGRESO_SINTOMAS','DIAS_SINTOMAS_DEF']]\n",
    "#dataq1 = dataq1.groupby(['FECHA_SINTOMAS','ENTIDAD_RES'])['SEXO'].agg(['count']).unstack(1)\n",
    "\n",
    "\n",
    "#print(fechaSintomas)\n",
    "#print(type(fechas))\n",
    "\n",
    "#fechasIndex = pd.DatetimeIndex(fechas.values)\n",
    "#df3=df.set_index(fechasIndex)\n",
    "#print(type(df3))\n",
    "\n",
    "#records = df.to_records(index=False)\n",
    "#result = list(records)\n",
    "#print(result)\n",
    "#OUTPUT\n",
    "\n",
    "dataq1 = dataf.query('RESULTADO ==\"Positivo SARS-CoV-2\" and ENTIDAD_UM == \"JC\"')\n",
    "\n",
    "fechas_serie = pd.date_range('20200217', periods=80, freq='D')\n",
    "fechas_dataFrame = (fechas_serie.to_frame(name='Fecha'))\n",
    "\n",
    "fechaSintomas = dataq1.groupby(['FECHA_SINTOMAS']).count()['DIAS_INGRESO_SINTOMAS'].to_frame(name='FECHA_SINTOMAS')\n",
    "fechaIngreso = dataq1.groupby(['FECHA_INGRESO']).count()['DIAS_INGRESO_SINTOMAS'].to_frame(name='FECHA_INGRESO')\n",
    "fechadef = dataq1.groupby(['FECHA_DEF']).count()['DIAS_SINTOMAS_DEF'].to_frame(name='FECHA_DEF')\n",
    "\n",
    "fechas = fechas_dataFrame.join(fechaSintomas, lsuffix='si', rsuffix='_other')\n",
    "fechas = fechas.join(fechaIngreso, lsuffix='_caller', rsuffix='_other')\n",
    "fechas = fechas.join(fechadef, lsuffix='_caller', rsuffix='_other')\n",
    "\n",
    "fechas = fechas.sum()\n",
    "\n",
    "fechas\n",
    "\n",
    "#fechas = fechas.drop(['Fecha'], axis=1)\n",
    "\n",
    "#fechas.plot(kind='bar', figsize=(15,10))"
   ]
  },
  {
   "cell_type": "code",
   "execution_count": 62,
   "metadata": {},
   "outputs": [
    {
     "data": {
      "text/plain": [
       "<matplotlib.axes._subplots.AxesSubplot at 0x7fec1c3d7250>"
      ]
     },
     "execution_count": 62,
     "metadata": {},
     "output_type": "execute_result"
    },
    {
     "data": {
      "image/png": "[encoded data removed]",
      "text/plain": [
       "<Figure size 1080x720 with 1 Axes>"
      ]
     },
     "metadata": {
      "needs_background": "light"
     },
     "output_type": "display_data"
    }
   ],
   "source": [
    "#print(dataf.columns)\n",
    "dataq1 = dataf.query('RESULTADO ==\"Positivo SARS-CoV-2\" and STATUS == \"FALLECIDO\"')\n",
    "\n",
    "#sintomas = dataq1.groupby(['ENTIDAD_RES']).sum()['DIAS_SINTOMAS_DEF'].to_frame(name='FECHA_SINTOMAS')\n",
    "ingreso = dataq1.groupby(['SECTOR'])['DIAS_INGRESO_SINTOMAS'].agg([np.mean]) #.agg([np.sum, pd.Series.count, np.mean, np.std])\n",
    "defunciones = dataq1.groupby(['SECTOR'])['DIAS_SINTOMAS_DEF'].agg([np.mean])\n",
    "\n",
    "ingreso = ingreso.join(defunciones, lsuffix='_ingreso', rsuffix='_defunción')\n",
    "\n",
    "ingreso.plot(kind='bar', figsize=(15,10))"
   ]
  }
 ],
 "metadata": {
  "kernelspec": {
   "display_name": "Python 3",
   "language": "python",
   "name": "python3"
  },
  "language_info": {
   "codemirror_mode": {
    "name": "ipython",
    "version": 3
   },
   "file_extension": ".py",
   "mimetype": "text/x-python",
   "name": "python",
   "nbconvert_exporter": "python",
   "pygments_lexer": "ipython3",
   "version": "3.7.6"
  }
 },
 "nbformat": 4,
 "nbformat_minor": 2
}
